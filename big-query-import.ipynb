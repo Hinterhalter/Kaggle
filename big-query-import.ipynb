{
 "cells": [
  {
   "cell_type": "code",
   "execution_count": 12,
   "metadata": {},
   "outputs": [],
   "source": [
    "from google.cloud import bigquery"
   ]
  },
  {
   "cell_type": "code",
   "execution_count": 17,
   "metadata": {},
   "outputs": [
    {
     "name": "stderr",
     "output_type": "stream",
     "text": [
      "usage: ipykernel_launcher.py [-h]\n",
      "                             {implicit,explicit,explicit_compute_engine} ...\n",
      "ipykernel_launcher.py: error: argument command: invalid choice: 'C:\\\\Users\\\\Joshua\\\\AppData\\\\Roaming\\\\jupyter\\\\runtime\\\\kernel-959b730b-5ca9-47d5-a7c5-f5f4de74156a.json' (choose from 'implicit', 'explicit', 'explicit_compute_engine')\n",
      "ERROR:root:Internal Python error in the inspect module.\n",
      "Below is the traceback from this internal error.\n",
      "\n"
     ]
    },
    {
     "name": "stdout",
     "output_type": "stream",
     "text": [
      "Traceback (most recent call last):\n",
      "  File \"C:\\Users\\Joshua\\anaconda3\\lib\\argparse.py\", line 1787, in parse_known_args\n",
      "    namespace, args = self._parse_known_args(args, namespace)\n",
      "  File \"C:\\Users\\Joshua\\anaconda3\\lib\\argparse.py\", line 1996, in _parse_known_args\n",
      "    stop_index = consume_positionals(start_index)\n",
      "  File \"C:\\Users\\Joshua\\anaconda3\\lib\\argparse.py\", line 1952, in consume_positionals\n",
      "    take_action(action, args)\n",
      "  File \"C:\\Users\\Joshua\\anaconda3\\lib\\argparse.py\", line 1845, in take_action\n",
      "    argument_values = self._get_values(action, argument_strings)\n",
      "  File \"C:\\Users\\Joshua\\anaconda3\\lib\\argparse.py\", line 2386, in _get_values\n",
      "    self._check_value(action, value[0])\n",
      "  File \"C:\\Users\\Joshua\\anaconda3\\lib\\argparse.py\", line 2433, in _check_value\n",
      "    raise ArgumentError(action, msg % args)\n",
      "argparse.ArgumentError: argument command: invalid choice: 'C:\\\\Users\\\\Joshua\\\\AppData\\\\Roaming\\\\jupyter\\\\runtime\\\\kernel-959b730b-5ca9-47d5-a7c5-f5f4de74156a.json' (choose from 'implicit', 'explicit', 'explicit_compute_engine')\n",
      "\n",
      "During handling of the above exception, another exception occurred:\n",
      "\n",
      "Traceback (most recent call last):\n",
      "  File \"C:\\Users\\Joshua\\anaconda3\\lib\\site-packages\\IPython\\core\\interactiveshell.py\", line 3331, in run_code\n",
      "    exec(code_obj, self.user_global_ns, self.user_ns)\n",
      "  File \"<ipython-input-17-8b7d36c9a25a>\", line 80, in <module>\n",
      "    args = parser.parse_args()\n",
      "  File \"C:\\Users\\Joshua\\anaconda3\\lib\\argparse.py\", line 1755, in parse_args\n",
      "    args, argv = self.parse_known_args(args, namespace)\n",
      "  File \"C:\\Users\\Joshua\\anaconda3\\lib\\argparse.py\", line 1794, in parse_known_args\n",
      "    self.error(str(err))\n",
      "  File \"C:\\Users\\Joshua\\anaconda3\\lib\\argparse.py\", line 2508, in error\n",
      "    self.exit(2, _('%(prog)s: error: %(message)s\\n') % args)\n",
      "  File \"C:\\Users\\Joshua\\anaconda3\\lib\\argparse.py\", line 2495, in exit\n",
      "    _sys.exit(status)\n",
      "SystemExit: 2\n",
      "\n",
      "During handling of the above exception, another exception occurred:\n",
      "\n",
      "Traceback (most recent call last):\n",
      "  File \"C:\\Users\\Joshua\\anaconda3\\lib\\site-packages\\IPython\\core\\ultratb.py\", line 1148, in get_records\n",
      "    return _fixed_getinnerframes(etb, number_of_lines_of_context, tb_offset)\n",
      "  File \"C:\\Users\\Joshua\\anaconda3\\lib\\site-packages\\IPython\\core\\ultratb.py\", line 316, in wrapped\n",
      "    return f(*args, **kwargs)\n",
      "  File \"C:\\Users\\Joshua\\anaconda3\\lib\\site-packages\\IPython\\core\\ultratb.py\", line 350, in _fixed_getinnerframes\n",
      "    records = fix_frame_records_filenames(inspect.getinnerframes(etb, context))\n",
      "  File \"C:\\Users\\Joshua\\anaconda3\\lib\\inspect.py\", line 1502, in getinnerframes\n",
      "    frameinfo = (tb.tb_frame,) + getframeinfo(tb, context)\n",
      "AttributeError: 'tuple' object has no attribute 'tb_frame'\n"
     ]
    },
    {
     "ename": "SystemExit",
     "evalue": "2",
     "output_type": "error",
     "traceback": [
      "An exception has occurred, use %tb to see the full traceback.\n",
      "\u001b[1;31m---------------------------------------------------------------------------\u001b[0m",
      "\nDuring handling of the above exception, another exception occurred:\n",
      "\u001b[1;31mSystemExit\u001b[0m\u001b[1;31m:\u001b[0m 2\n"
     ]
    },
    {
     "name": "stderr",
     "output_type": "stream",
     "text": [
      "C:\\Users\\Joshua\\anaconda3\\lib\\site-packages\\IPython\\core\\interactiveshell.py:3339: UserWarning: To exit: use 'exit', 'quit', or Ctrl-D.\n",
      "  warn(\"To exit: use 'exit', 'quit', or Ctrl-D.\", stacklevel=1)\n"
     ]
    }
   ],
   "source": [
    "# Copyright 2016 Google Inc. All Rights Reserved.\n",
    "#\n",
    "# Licensed under the Apache License, Version 2.0 (the \"License\");\n",
    "# you may not use this file except in compliance with the License.\n",
    "# You may obtain a copy of the License at\n",
    "#\n",
    "#      http://www.apache.org/licenses/LICENSE-2.0\n",
    "#\n",
    "# Unless required by applicable law or agreed to in writing, software\n",
    "# distributed under the License is distributed on an \"AS IS\" BASIS,\n",
    "# WITHOUT WARRANTIES OR CONDITIONS OF ANY KIND, either express or implied.\n",
    "# See the License for the specific language governing permissions and\n",
    "# limitations under the License.\n",
    "\n",
    "\"\"\"Demonstrates how to authenticate to Google Cloud Platform APIs using\n",
    "the Google Cloud Client Libraries.\"\"\"\n",
    "\n",
    "import argparse\n",
    "\n",
    "\n",
    "# [START auth_cloud_implicit]\n",
    "def implicit():\n",
    "    from google.cloud import storage\n",
    "\n",
    "    # If you don't specify credentials when constructing the client, the\n",
    "    # client library will look for credentials in the environment.\n",
    "    storage_client = storage.Client()\n",
    "\n",
    "    # Make an authenticated API request\n",
    "    buckets = list(storage_client.list_buckets())\n",
    "    print(buckets)\n",
    "# [END auth_cloud_implicit]\n",
    "\n",
    "\n",
    "# [START auth_cloud_explicit]\n",
    "def explicit():\n",
    "    from google.cloud import storage\n",
    "\n",
    "    # Explicitly use service account credentials by specifying the private key\n",
    "    # file.\n",
    "    storage_client = storage.Client.from_service_account_json(\n",
    "        'service_account.json')\n",
    "\n",
    "    # Make an authenticated API request\n",
    "    buckets = list(storage_client.list_buckets())\n",
    "    print(buckets)\n",
    "# [END auth_cloud_explicit]\n",
    "\n",
    "\n",
    "# [START auth_cloud_explicit_compute_engine]\n",
    "def explicit_compute_engine(project):\n",
    "    from google.auth import compute_engine\n",
    "    from google.cloud import storage\n",
    "\n",
    "    # Explicitly use Compute Engine credentials. These credentials are\n",
    "    # available on Compute Engine, App Engine Flexible, and Container Engine.\n",
    "    credentials = compute_engine.Credentials()\n",
    "\n",
    "    # Create the client using the credentials and specifying a project ID.\n",
    "    storage_client = storage.Client(credentials=credentials, project=project)\n",
    "\n",
    "    # Make an authenticated API request\n",
    "    buckets = list(storage_client.list_buckets())\n",
    "    print(buckets)\n",
    "# [END auth_cloud_explicit_compute_engine]\n",
    "\n",
    "\n",
    "if __name__ == '__main__':\n",
    "    parser = argparse.ArgumentParser(\n",
    "        description=__doc__,\n",
    "        formatter_class=argparse.RawDescriptionHelpFormatter)\n",
    "\n",
    "    subparsers = parser.add_subparsers(dest='command')\n",
    "    subparsers.add_parser('implicit', help=implicit.__doc__)\n",
    "    subparsers.add_parser('explicit', help=explicit.__doc__)\n",
    "    explicit_gce_parser = subparsers.add_parser(\n",
    "        'explicit_compute_engine', help=explicit_compute_engine.__doc__)\n",
    "    explicit_gce_parser.add_argument('project')\n",
    "\n",
    "    args = parser.parse_args()\n",
    "\n",
    "    if args.command == 'implicit':\n",
    "        implicit()\n",
    "    elif args.command == 'explicit':\n",
    "        explicit()\n",
    "    elif args.command == 'explicit_compute_engine':\n",
    "        explicit_compute_engine(args.project)"
   ]
  },
  {
   "cell_type": "code",
   "execution_count": 4,
   "metadata": {},
   "outputs": [],
   "source": [
    "%load_ext google.cloud.bigquery"
   ]
  },
  {
   "cell_type": "code",
   "execution_count": 11,
   "metadata": {},
   "outputs": [
    {
     "ename": "DefaultCredentialsError",
     "evalue": "Could not automatically determine credentials. Please set GOOGLE_APPLICATION_CREDENTIALS or explicitly create credentials and re-run the application. For more information, please see https://cloud.google.com/docs/authentication/getting-started",
     "output_type": "error",
     "traceback": [
      "\u001b[1;31m---------------------------------------------------------------------------\u001b[0m",
      "\u001b[1;31mDefaultCredentialsError\u001b[0m                   Traceback (most recent call last)",
      "\u001b[1;32m<ipython-input-11-4fdaec7219df>\u001b[0m in \u001b[0;36m<module>\u001b[1;34m\u001b[0m\n\u001b[1;32m----> 1\u001b[1;33m \u001b[0mget_ipython\u001b[0m\u001b[1;33m(\u001b[0m\u001b[1;33m)\u001b[0m\u001b[1;33m.\u001b[0m\u001b[0mrun_cell_magic\u001b[0m\u001b[1;33m(\u001b[0m\u001b[1;34m'bigquery'\u001b[0m\u001b[1;33m,\u001b[0m \u001b[1;34m'tax_forms --use_bqstorage_api'\u001b[0m\u001b[1;33m,\u001b[0m \u001b[1;34m'SELECT * FROM `bigquery-public-data.irs_990.irs_990_2012`\\n'\u001b[0m\u001b[1;33m)\u001b[0m\u001b[1;33m\u001b[0m\u001b[1;33m\u001b[0m\u001b[0m\n\u001b[0m",
      "\u001b[1;32m~\\anaconda3\\lib\\site-packages\\IPython\\core\\interactiveshell.py\u001b[0m in \u001b[0;36mrun_cell_magic\u001b[1;34m(self, magic_name, line, cell)\u001b[0m\n\u001b[0;32m   2360\u001b[0m             \u001b[1;32mwith\u001b[0m \u001b[0mself\u001b[0m\u001b[1;33m.\u001b[0m\u001b[0mbuiltin_trap\u001b[0m\u001b[1;33m:\u001b[0m\u001b[1;33m\u001b[0m\u001b[1;33m\u001b[0m\u001b[0m\n\u001b[0;32m   2361\u001b[0m                 \u001b[0margs\u001b[0m \u001b[1;33m=\u001b[0m \u001b[1;33m(\u001b[0m\u001b[0mmagic_arg_s\u001b[0m\u001b[1;33m,\u001b[0m \u001b[0mcell\u001b[0m\u001b[1;33m)\u001b[0m\u001b[1;33m\u001b[0m\u001b[1;33m\u001b[0m\u001b[0m\n\u001b[1;32m-> 2362\u001b[1;33m                 \u001b[0mresult\u001b[0m \u001b[1;33m=\u001b[0m \u001b[0mfn\u001b[0m\u001b[1;33m(\u001b[0m\u001b[1;33m*\u001b[0m\u001b[0margs\u001b[0m\u001b[1;33m,\u001b[0m \u001b[1;33m**\u001b[0m\u001b[0mkwargs\u001b[0m\u001b[1;33m)\u001b[0m\u001b[1;33m\u001b[0m\u001b[1;33m\u001b[0m\u001b[0m\n\u001b[0m\u001b[0;32m   2363\u001b[0m             \u001b[1;32mreturn\u001b[0m \u001b[0mresult\u001b[0m\u001b[1;33m\u001b[0m\u001b[1;33m\u001b[0m\u001b[0m\n\u001b[0;32m   2364\u001b[0m \u001b[1;33m\u001b[0m\u001b[0m\n",
      "\u001b[1;32m~\\anaconda3\\lib\\site-packages\\google\\cloud\\bigquery\\magics.py\u001b[0m in \u001b[0;36m_cell_magic\u001b[1;34m(line, query)\u001b[0m\n\u001b[0;32m    484\u001b[0m             )\n\u001b[0;32m    485\u001b[0m \u001b[1;33m\u001b[0m\u001b[0m\n\u001b[1;32m--> 486\u001b[1;33m     \u001b[0mproject\u001b[0m \u001b[1;33m=\u001b[0m \u001b[0margs\u001b[0m\u001b[1;33m.\u001b[0m\u001b[0mproject\u001b[0m \u001b[1;32mor\u001b[0m \u001b[0mcontext\u001b[0m\u001b[1;33m.\u001b[0m\u001b[0mproject\u001b[0m\u001b[1;33m\u001b[0m\u001b[1;33m\u001b[0m\u001b[0m\n\u001b[0m\u001b[0;32m    487\u001b[0m     client = bigquery.Client(\n\u001b[0;32m    488\u001b[0m         \u001b[0mproject\u001b[0m\u001b[1;33m=\u001b[0m\u001b[0mproject\u001b[0m\u001b[1;33m,\u001b[0m\u001b[1;33m\u001b[0m\u001b[1;33m\u001b[0m\u001b[0m\n",
      "\u001b[1;32m~\\anaconda3\\lib\\site-packages\\google\\cloud\\bigquery\\magics.py\u001b[0m in \u001b[0;36mproject\u001b[1;34m(self)\u001b[0m\n\u001b[0;32m    229\u001b[0m         \"\"\"\n\u001b[0;32m    230\u001b[0m         \u001b[1;32mif\u001b[0m \u001b[0mself\u001b[0m\u001b[1;33m.\u001b[0m\u001b[0m_project\u001b[0m \u001b[1;32mis\u001b[0m \u001b[1;32mNone\u001b[0m\u001b[1;33m:\u001b[0m\u001b[1;33m\u001b[0m\u001b[1;33m\u001b[0m\u001b[0m\n\u001b[1;32m--> 231\u001b[1;33m             \u001b[0m_\u001b[0m\u001b[1;33m,\u001b[0m \u001b[0mself\u001b[0m\u001b[1;33m.\u001b[0m\u001b[0m_project\u001b[0m \u001b[1;33m=\u001b[0m \u001b[0mgoogle\u001b[0m\u001b[1;33m.\u001b[0m\u001b[0mauth\u001b[0m\u001b[1;33m.\u001b[0m\u001b[0mdefault\u001b[0m\u001b[1;33m(\u001b[0m\u001b[1;33m)\u001b[0m\u001b[1;33m\u001b[0m\u001b[1;33m\u001b[0m\u001b[0m\n\u001b[0m\u001b[0;32m    232\u001b[0m         \u001b[1;32mreturn\u001b[0m \u001b[0mself\u001b[0m\u001b[1;33m.\u001b[0m\u001b[0m_project\u001b[0m\u001b[1;33m\u001b[0m\u001b[1;33m\u001b[0m\u001b[0m\n\u001b[0;32m    233\u001b[0m \u001b[1;33m\u001b[0m\u001b[0m\n",
      "\u001b[1;32m~\\anaconda3\\lib\\site-packages\\google\\auth\\_default.py\u001b[0m in \u001b[0;36mdefault\u001b[1;34m(scopes, request)\u001b[0m\n\u001b[0;32m    319\u001b[0m             \u001b[1;32mreturn\u001b[0m \u001b[0mcredentials\u001b[0m\u001b[1;33m,\u001b[0m \u001b[0meffective_project_id\u001b[0m\u001b[1;33m\u001b[0m\u001b[1;33m\u001b[0m\u001b[0m\n\u001b[0;32m    320\u001b[0m \u001b[1;33m\u001b[0m\u001b[0m\n\u001b[1;32m--> 321\u001b[1;33m     \u001b[1;32mraise\u001b[0m \u001b[0mexceptions\u001b[0m\u001b[1;33m.\u001b[0m\u001b[0mDefaultCredentialsError\u001b[0m\u001b[1;33m(\u001b[0m\u001b[0m_HELP_MESSAGE\u001b[0m\u001b[1;33m)\u001b[0m\u001b[1;33m\u001b[0m\u001b[1;33m\u001b[0m\u001b[0m\n\u001b[0m",
      "\u001b[1;31mDefaultCredentialsError\u001b[0m: Could not automatically determine credentials. Please set GOOGLE_APPLICATION_CREDENTIALS or explicitly create credentials and re-run the application. For more information, please see https://cloud.google.com/docs/authentication/getting-started"
     ]
    }
   ],
   "source": [
    "%%bigquery tax_forms --use_bqstorage_api\n",
    "SELECT * FROM `bigquery-public-data.irs_990.irs_990_2012`"
   ]
  },
  {
   "cell_type": "code",
   "execution_count": 8,
   "metadata": {},
   "outputs": [],
   "source": [
    "def implicit():\n",
    "        from google.cloud import storage\n",
    "\n",
    "        # If you don't specify credentials when constructing the client, the\n",
    "        # client library will look for credentials in the environment.\n",
    "        storage_client = storage.Client()\n",
    "\n",
    "        # Make an authenticated API request\n",
    "        buckets = list(storage_client.list_buckets())\n",
    "        print(buckets)"
   ]
  },
  {
   "cell_type": "code",
   "execution_count": 9,
   "metadata": {},
   "outputs": [],
   "source": [
    "def explicit_compute_engine(project):\n",
    "        from google.auth import compute_engine\n",
    "        from google.cloud import storage\n",
    "\n",
    "        # Explicitly use Compute Engine credentials. These credentials are\n",
    "        # available on Compute Engine, App Engine Flexible, and Container Engine.\n",
    "        credentials = compute_engine.Credentials()\n",
    "\n",
    "        # Create the client using the credentials and specifying a project ID.\n",
    "        storage_client = storage.Client(credentials=credentials, project=project)\n",
    "\n",
    "        # Make an authenticated API request\n",
    "        buckets = list(storage_client.list_buckets())\n",
    "        print(buckets)"
   ]
  },
  {
   "cell_type": "code",
   "execution_count": 10,
   "metadata": {},
   "outputs": [],
   "source": [
    "def explicit_app_engine(project):\n",
    "        from google.auth import app_engine\n",
    "        import googleapiclient.discovery\n",
    "\n",
    "        # Explicitly use App Engine credentials. These credentials are\n",
    "        # only available when running on App Engine Standard.\n",
    "        credentials = app_engine.Credentials()\n",
    "\n",
    "        # Explicitly pass the credentials to the client library.\n",
    "        storage_client = googleapiclient.discovery.build(\n",
    "            'storage', 'v1', credentials=credentials)\n",
    "\n",
    "        # Make an authenticated API request\n",
    "        buckets = storage_client.buckets().list(project=project).execute()\n",
    "        print(buckets)"
   ]
  },
  {
   "cell_type": "code",
   "execution_count": 14,
   "metadata": {},
   "outputs": [
    {
     "ename": "ModuleNotFoundError",
     "evalue": "No module named 'bq_helper'",
     "output_type": "error",
     "traceback": [
      "\u001b[1;31m---------------------------------------------------------------------------\u001b[0m",
      "\u001b[1;31mModuleNotFoundError\u001b[0m                       Traceback (most recent call last)",
      "\u001b[1;32m<ipython-input-14-9e3b4279427c>\u001b[0m in \u001b[0;36m<module>\u001b[1;34m\u001b[0m\n\u001b[1;32m----> 1\u001b[1;33m \u001b[1;32mimport\u001b[0m \u001b[0mbq_helper\u001b[0m\u001b[1;33m\u001b[0m\u001b[1;33m\u001b[0m\u001b[0m\n\u001b[0m\u001b[0;32m      2\u001b[0m \u001b[1;32mfrom\u001b[0m \u001b[0mbq_helper\u001b[0m \u001b[1;32mimport\u001b[0m \u001b[0mBigQueryHelper\u001b[0m\u001b[1;33m\u001b[0m\u001b[1;33m\u001b[0m\u001b[0m\n\u001b[0;32m      3\u001b[0m \u001b[1;31m# https://www.kaggle.com/sohier/introduction-to-the-bq-helper-package\u001b[0m\u001b[1;33m\u001b[0m\u001b[1;33m\u001b[0m\u001b[1;33m\u001b[0m\u001b[0m\n\u001b[0;32m      4\u001b[0m chicago_taxi = bq_helper.BigQueryHelper(active_project=\"bigquery-public-data\",\n\u001b[0;32m      5\u001b[0m                                    dataset_name=\"chicago_taxi_trips\")\n",
      "\u001b[1;31mModuleNotFoundError\u001b[0m: No module named 'bq_helper'"
     ]
    }
   ],
   "source": [
    "import bq_helper\n",
    "from bq_helper import BigQueryHelper\n",
    "# https://www.kaggle.com/sohier/introduction-to-the-bq-helper-package\n",
    "chicago_taxi = bq_helper.BigQueryHelper(active_project=\"bigquery-public-data\",\n",
    "                                   dataset_name=\"chicago_taxi_trips\")"
   ]
  },
  {
   "cell_type": "code",
   "execution_count": null,
   "metadata": {},
   "outputs": [],
   "source": []
  }
 ],
 "metadata": {
  "kernelspec": {
   "display_name": "Python 3",
   "language": "python",
   "name": "python3"
  },
  "language_info": {
   "codemirror_mode": {
    "name": "ipython",
    "version": 3
   },
   "file_extension": ".py",
   "mimetype": "text/x-python",
   "name": "python",
   "nbconvert_exporter": "python",
   "pygments_lexer": "ipython3",
   "version": "3.7.6"
  }
 },
 "nbformat": 4,
 "nbformat_minor": 4
}
