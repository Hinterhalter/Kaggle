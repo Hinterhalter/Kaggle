{
 "cells": [
  {
   "cell_type": "code",
   "execution_count": 2,
   "metadata": {},
   "outputs": [],
   "source": [
    "import pandas as pd, numpy as np, matplotlib.pyplot as plt, seaborn as sns, os, sys, datetime as dt, warnings\n",
    "\n",
    "%matplotlib inline\n",
    "from matplotlib import font_manager, rc\n",
    "font_name = font_manager.FontProperties(fname=\"c:/Windows/Fonts/malgun.ttf\").get_name()\n",
    "rc('font', family=font_name)\n",
    "plt.style.use('ggplot')\n",
    "color_pal = [\"#F8766D\", \"#D39200\", \"#93AA00\", \"#00BA38\", \"#00C19F\", \"#00B9E3\", \"#619CFF\", \"#DB72FB\"]\n",
    "warnings.filterwarnings(action='ignore')\n",
    "\n",
    "from sklearn.ensemble import RandomForestRegressor, GradientBoostingRegressor, StackingRegressor\n",
    "from sklearn.model_selection import GridSearchCV, train_test_split\n",
    "from sklearn.preprocessing import LabelEncoder, StandardScaler, MinMaxScaler\n",
    "from sklearn.metrics import mean_squared_error\n",
    "import lightgbm as lgb"
   ]
  },
  {
   "cell_type": "markdown",
   "metadata": {},
   "source": [
    "# Load Dataset"
   ]
  },
  {
   "cell_type": "code",
   "execution_count": 3,
   "metadata": {},
   "outputs": [
    {
     "data": {
      "text/html": [
       "<div>\n",
       "<style scoped>\n",
       "    .dataframe tbody tr th:only-of-type {\n",
       "        vertical-align: middle;\n",
       "    }\n",
       "\n",
       "    .dataframe tbody tr th {\n",
       "        vertical-align: top;\n",
       "    }\n",
       "\n",
       "    .dataframe thead th {\n",
       "        text-align: right;\n",
       "    }\n",
       "</style>\n",
       "<table border=\"1\" class=\"dataframe\">\n",
       "  <thead>\n",
       "    <tr style=\"text-align: right;\">\n",
       "      <th></th>\n",
       "      <th>taxi_id</th>\n",
       "      <th>trip_seconds</th>\n",
       "      <th>fare</th>\n",
       "      <th>tips</th>\n",
       "      <th>tolls</th>\n",
       "      <th>extras</th>\n",
       "      <th>trip_total</th>\n",
       "      <th>pickup_latitude</th>\n",
       "      <th>pickup_longitude</th>\n",
       "      <th>dropoff_latitude</th>\n",
       "      <th>dropoff_longitude</th>\n",
       "      <th>trip_minuate</th>\n",
       "      <th>trip_km</th>\n",
       "    </tr>\n",
       "  </thead>\n",
       "  <tbody>\n",
       "    <tr>\n",
       "      <th>0</th>\n",
       "      <td>85.0</td>\n",
       "      <td>180.0</td>\n",
       "      <td>4.50</td>\n",
       "      <td>0.0</td>\n",
       "      <td>0.0</td>\n",
       "      <td>0.0</td>\n",
       "      <td>4.50</td>\n",
       "      <td>199.0</td>\n",
       "      <td>510.0</td>\n",
       "      <td>199.0</td>\n",
       "      <td>510.0</td>\n",
       "      <td>3.0</td>\n",
       "      <td>0.643700</td>\n",
       "    </tr>\n",
       "    <tr>\n",
       "      <th>1</th>\n",
       "      <td>4237.0</td>\n",
       "      <td>480.0</td>\n",
       "      <td>7.00</td>\n",
       "      <td>0.0</td>\n",
       "      <td>0.0</td>\n",
       "      <td>0.0</td>\n",
       "      <td>7.00</td>\n",
       "      <td>686.0</td>\n",
       "      <td>500.0</td>\n",
       "      <td>686.0</td>\n",
       "      <td>500.0</td>\n",
       "      <td>8.0</td>\n",
       "      <td>1.770300</td>\n",
       "    </tr>\n",
       "    <tr>\n",
       "      <th>2</th>\n",
       "      <td>1987.0</td>\n",
       "      <td>1080.0</td>\n",
       "      <td>17.75</td>\n",
       "      <td>0.0</td>\n",
       "      <td>0.0</td>\n",
       "      <td>0.0</td>\n",
       "      <td>17.75</td>\n",
       "      <td>599.0</td>\n",
       "      <td>346.0</td>\n",
       "      <td>660.0</td>\n",
       "      <td>120.0</td>\n",
       "      <td>18.0</td>\n",
       "      <td>9.977900</td>\n",
       "    </tr>\n",
       "    <tr>\n",
       "      <th>3</th>\n",
       "      <td>6400.0</td>\n",
       "      <td>60.0</td>\n",
       "      <td>3.75</td>\n",
       "      <td>0.0</td>\n",
       "      <td>0.0</td>\n",
       "      <td>0.0</td>\n",
       "      <td>3.75</td>\n",
       "      <td>527.0</td>\n",
       "      <td>24.0</td>\n",
       "      <td>527.0</td>\n",
       "      <td>24.0</td>\n",
       "      <td>1.0</td>\n",
       "      <td>0.321900</td>\n",
       "    </tr>\n",
       "    <tr>\n",
       "      <th>4</th>\n",
       "      <td>7418.0</td>\n",
       "      <td>180.0</td>\n",
       "      <td>5.00</td>\n",
       "      <td>2.0</td>\n",
       "      <td>0.0</td>\n",
       "      <td>1.5</td>\n",
       "      <td>8.50</td>\n",
       "      <td>210.0</td>\n",
       "      <td>470.0</td>\n",
       "      <td>744.0</td>\n",
       "      <td>605.0</td>\n",
       "      <td>3.0</td>\n",
       "      <td>1.001646</td>\n",
       "    </tr>\n",
       "  </tbody>\n",
       "</table>\n",
       "</div>"
      ],
      "text/plain": [
       "   taxi_id  trip_seconds   fare  tips  tolls  extras  trip_total  \\\n",
       "0     85.0         180.0   4.50   0.0    0.0     0.0        4.50   \n",
       "1   4237.0         480.0   7.00   0.0    0.0     0.0        7.00   \n",
       "2   1987.0        1080.0  17.75   0.0    0.0     0.0       17.75   \n",
       "3   6400.0          60.0   3.75   0.0    0.0     0.0        3.75   \n",
       "4   7418.0         180.0   5.00   2.0    0.0     1.5        8.50   \n",
       "\n",
       "   pickup_latitude  pickup_longitude  dropoff_latitude  dropoff_longitude  \\\n",
       "0            199.0             510.0             199.0              510.0   \n",
       "1            686.0             500.0             686.0              500.0   \n",
       "2            599.0             346.0             660.0              120.0   \n",
       "3            527.0              24.0             527.0               24.0   \n",
       "4            210.0             470.0             744.0              605.0   \n",
       "\n",
       "   trip_minuate   trip_km  \n",
       "0           3.0  0.643700  \n",
       "1           8.0  1.770300  \n",
       "2          18.0  9.977900  \n",
       "3           1.0  0.321900  \n",
       "4           3.0  1.001646  "
      ]
     },
     "execution_count": 3,
     "metadata": {},
     "output_type": "execute_result"
    }
   ],
   "source": [
    "df_raw = pd.read_csv('new_jan_1.csv')\n",
    "df_raw.head()"
   ]
  },
  {
   "cell_type": "code",
   "execution_count": 4,
   "metadata": {},
   "outputs": [],
   "source": [
    "df = df_raw.copy()"
   ]
  },
  {
   "cell_type": "markdown",
   "metadata": {},
   "source": [
    "# EDA"
   ]
  },
  {
   "cell_type": "markdown",
   "metadata": {},
   "source": [
    "#### Missing Values"
   ]
  },
  {
   "cell_type": "code",
   "execution_count": 5,
   "metadata": {},
   "outputs": [
    {
     "data": {
      "text/plain": [
       "taxi_id              0\n",
       "trip_seconds         0\n",
       "fare                 0\n",
       "tips                 0\n",
       "tolls                0\n",
       "extras               0\n",
       "trip_total           0\n",
       "pickup_latitude      0\n",
       "pickup_longitude     0\n",
       "dropoff_latitude     0\n",
       "dropoff_longitude    0\n",
       "trip_minuate         0\n",
       "trip_km              0\n",
       "dtype: int64"
      ]
     },
     "execution_count": 5,
     "metadata": {},
     "output_type": "execute_result"
    }
   ],
   "source": [
    "df.isnull().sum()"
   ]
  },
  {
   "cell_type": "code",
   "execution_count": 6,
   "metadata": {},
   "outputs": [
    {
     "name": "stdout",
     "output_type": "stream",
     "text": [
      "<class 'pandas.core.frame.DataFrame'>\n",
      "RangeIndex: 1384038 entries, 0 to 1384037\n",
      "Data columns (total 13 columns):\n",
      " #   Column             Non-Null Count    Dtype  \n",
      "---  ------             --------------    -----  \n",
      " 0   taxi_id            1384038 non-null  float64\n",
      " 1   trip_seconds       1384038 non-null  float64\n",
      " 2   fare               1384038 non-null  float64\n",
      " 3   tips               1384038 non-null  float64\n",
      " 4   tolls              1384038 non-null  float64\n",
      " 5   extras             1384038 non-null  float64\n",
      " 6   trip_total         1384038 non-null  float64\n",
      " 7   pickup_latitude    1384038 non-null  float64\n",
      " 8   pickup_longitude   1384038 non-null  float64\n",
      " 9   dropoff_latitude   1384038 non-null  float64\n",
      " 10  dropoff_longitude  1384038 non-null  float64\n",
      " 11  trip_minuate       1384038 non-null  float64\n",
      " 12  trip_km            1384038 non-null  float64\n",
      "dtypes: float64(13)\n",
      "memory usage: 137.3 MB\n"
     ]
    }
   ],
   "source": [
    "df.info()"
   ]
  },
  {
   "cell_type": "code",
   "execution_count": 7,
   "metadata": {},
   "outputs": [
    {
     "data": {
      "text/plain": [
       "<matplotlib.axes._subplots.AxesSubplot at 0x1da2db77ec8>"
      ]
     },
     "execution_count": 7,
     "metadata": {},
     "output_type": "execute_result"
    },
    {
     "data": {
      "image/png": "[encoded data removed]",
      "text/plain": [
       "<Figure size 504x504 with 2 Axes>"
      ]
     },
     "metadata": {},
     "output_type": "display_data"
    }
   ],
   "source": [
    "plt.figure(figsize=(7,7))\n",
    "mask=df.corr() > 0.3\n",
    "sns.heatmap(df.corr(),cmap='YlGnBu',mask=mask,fmt='.1g')"
   ]
  },
  {
   "cell_type": "markdown",
   "metadata": {},
   "source": [
    "# Data Preprocessing"
   ]
  },
  {
   "cell_type": "code",
   "execution_count": 8,
   "metadata": {},
   "outputs": [
    {
     "data": {
      "text/plain": [
       "Index(['taxi_id', 'trip_seconds', 'fare', 'tips', 'tolls', 'extras',\n",
       "       'trip_total', 'pickup_latitude', 'pickup_longitude', 'dropoff_latitude',\n",
       "       'dropoff_longitude', 'trip_minuate', 'trip_km'],\n",
       "      dtype='object')"
      ]
     },
     "execution_count": 8,
     "metadata": {},
     "output_type": "execute_result"
    }
   ],
   "source": [
    "df.columns"
   ]
  },
  {
   "cell_type": "code",
   "execution_count": 9,
   "metadata": {},
   "outputs": [],
   "source": [
    "# 불필요 변수 삭제\n",
    "\n",
    "data = df[['trip_seconds', 'fare', 'tips', 'tolls', 'extras', 'trip_km', 'trip_total']]\n",
    "\n",
    "X_cols = list(data.columns)\n",
    "X_cols.remove('trip_total')"
   ]
  },
  {
   "cell_type": "code",
   "execution_count": 10,
   "metadata": {},
   "outputs": [
    {
     "data": {
      "text/plain": [
       "['trip_seconds', 'fare', 'tips', 'tolls', 'extras', 'trip_km']"
      ]
     },
     "execution_count": 10,
     "metadata": {},
     "output_type": "execute_result"
    }
   ],
   "source": [
    "X_cols"
   ]
  },
  {
   "cell_type": "code",
   "execution_count": 11,
   "metadata": {},
   "outputs": [],
   "source": [
    "X = data[X_cols]\n",
    "y = data['trip_total']"
   ]
  },
  {
   "cell_type": "code",
   "execution_count": 12,
   "metadata": {},
   "outputs": [],
   "source": [
    "# Scaling\n",
    "\n",
    "X_scaler = MinMaxScaler()\n",
    "y_scaler = MinMaxScaler()\n",
    "X = X_scaler.fit_transform(X)\n",
    "#y = y_scaler.fit_transform(y.values.reshape(-1,1))"
   ]
  },
  {
   "cell_type": "code",
   "execution_count": 13,
   "metadata": {},
   "outputs": [],
   "source": [
    "# Train, Test splits\n",
    "\n",
    "X_train, X_test, y_train, y_test = train_test_split(X, y, test_size=0.3, shuffle=True)"
   ]
  },
  {
   "cell_type": "code",
   "execution_count": 14,
   "metadata": {},
   "outputs": [
    {
     "name": "stdout",
     "output_type": "stream",
     "text": [
      "Train Set :  (968826, 6)\n",
      "Test Set :  (415212, 6)\n"
     ]
    }
   ],
   "source": [
    "print('Train Set : ', X_train.shape)\n",
    "print('Test Set : ', X_test.shape)"
   ]
  },
  {
   "cell_type": "markdown",
   "metadata": {},
   "source": [
    "# Create Base Model"
   ]
  },
  {
   "cell_type": "markdown",
   "metadata": {},
   "source": [
    "### Light Gradient Boosting Machine"
   ]
  },
  {
   "cell_type": "code",
   "execution_count": 15,
   "metadata": {},
   "outputs": [],
   "source": [
    "train_ds = lgb.Dataset(X_train, label=y_train)\n",
    "val_ds = lgb.Dataset(X_test, label=y_test)"
   ]
  },
  {
   "cell_type": "code",
   "execution_count": 16,
   "metadata": {},
   "outputs": [],
   "source": [
    "params = {\n",
    "            'learning_rate' : 0.01,\n",
    "            'boosting_type': 'gbdt',\n",
    "            'objective': 'tweedie',\n",
    "            'tweedie_variance_power': 1.1,\n",
    "            'metric': 'rmse',\n",
    "            'sub_row' : 0.75,\n",
    "            'lambda_l2' : 0.1\n",
    "        }"
   ]
  },
  {
   "cell_type": "code",
   "execution_count": 17,
   "metadata": {},
   "outputs": [
    {
     "name": "stdout",
     "output_type": "stream",
     "text": [
      "Training until validation scores don't improve for 100 rounds\n",
      "[100]\tvalid_0's rmse: 26.9766\n",
      "[200]\tvalid_0's rmse: 20.2646\n",
      "[300]\tvalid_0's rmse: 19.1826\n",
      "[400]\tvalid_0's rmse: 18.8586\n",
      "[500]\tvalid_0's rmse: 18.5814\n",
      "[600]\tvalid_0's rmse: 18.3358\n",
      "[700]\tvalid_0's rmse: 18.3068\n",
      "[800]\tvalid_0's rmse: 18.2116\n",
      "[900]\tvalid_0's rmse: 18.0472\n",
      "[1000]\tvalid_0's rmse: 17.969\n",
      "[1100]\tvalid_0's rmse: 17.9302\n",
      "[1200]\tvalid_0's rmse: 17.9175\n",
      "[1300]\tvalid_0's rmse: 17.9077\n",
      "[1400]\tvalid_0's rmse: 17.9284\n",
      "Early stopping, best iteration is:\n",
      "[1354]\tvalid_0's rmse: 17.9001\n"
     ]
    }
   ],
   "source": [
    "model = lgb.train(params,\n",
    "                  train_ds,\n",
    "                  5000,\n",
    "                  val_ds,\n",
    "                  verbose_eval = 100,\n",
    "                  early_stopping_rounds = 100\n",
    "                 )"
   ]
  },
  {
   "cell_type": "code",
   "execution_count": 18,
   "metadata": {},
   "outputs": [],
   "source": [
    "# 예측\n",
    "pred = model.predict(X_test)"
   ]
  },
  {
   "cell_type": "code",
   "execution_count": 19,
   "metadata": {},
   "outputs": [
    {
     "data": {
      "text/plain": [
       "array([ 6.25954345, 20.77115427,  6.00142119, ...,  7.9970953 ,\n",
       "       14.24313143, 11.91938367])"
      ]
     },
     "execution_count": 19,
     "metadata": {},
     "output_type": "execute_result"
    }
   ],
   "source": [
    "pred"
   ]
  },
  {
   "cell_type": "code",
   "execution_count": 20,
   "metadata": {},
   "outputs": [
    {
     "data": {
      "text/plain": [
       "17.90013609417423"
      ]
     },
     "execution_count": 20,
     "metadata": {},
     "output_type": "execute_result"
    }
   ],
   "source": [
    "np.sqrt(mean_squared_error(y_test,pred))"
   ]
  },
  {
   "cell_type": "code",
   "execution_count": 21,
   "metadata": {},
   "outputs": [],
   "source": [
    "# 모델 실행 및 결과 확인\n",
    "X_test_predict=pd.DataFrame(\n",
    "    model.predict(X_test)).rename(\n",
    "    columns={0:'predict'})\n",
    "X_train_predict=pd.DataFrame(\n",
    "    model.predict(X_train)).rename(\n",
    "    columns={0:'predict'})\n",
    "\n",
    "# combine the training and testing dataframes to visualize\n",
    "# and compare.\n",
    "lgb_predict = X_train_predict.append(X_test_predict)"
   ]
  },
  {
   "cell_type": "code",
   "execution_count": 25,
   "metadata": {},
   "outputs": [
    {
     "data": {
      "text/html": [
       "<div>\n",
       "<style scoped>\n",
       "    .dataframe tbody tr th:only-of-type {\n",
       "        vertical-align: middle;\n",
       "    }\n",
       "\n",
       "    .dataframe tbody tr th {\n",
       "        vertical-align: top;\n",
       "    }\n",
       "\n",
       "    .dataframe thead th {\n",
       "        text-align: right;\n",
       "    }\n",
       "</style>\n",
       "<table border=\"1\" class=\"dataframe\">\n",
       "  <thead>\n",
       "    <tr style=\"text-align: right;\">\n",
       "      <th></th>\n",
       "      <th>predict</th>\n",
       "    </tr>\n",
       "  </thead>\n",
       "  <tbody>\n",
       "    <tr>\n",
       "      <th>0</th>\n",
       "      <td>4.097612</td>\n",
       "    </tr>\n",
       "    <tr>\n",
       "      <th>1</th>\n",
       "      <td>12.239074</td>\n",
       "    </tr>\n",
       "    <tr>\n",
       "      <th>2</th>\n",
       "      <td>7.992824</td>\n",
       "    </tr>\n",
       "    <tr>\n",
       "      <th>3</th>\n",
       "      <td>7.990778</td>\n",
       "    </tr>\n",
       "    <tr>\n",
       "      <th>4</th>\n",
       "      <td>8.701894</td>\n",
       "    </tr>\n",
       "  </tbody>\n",
       "</table>\n",
       "</div>"
      ],
      "text/plain": [
       "     predict\n",
       "0   4.097612\n",
       "1  12.239074\n",
       "2   7.992824\n",
       "3   7.990778\n",
       "4   8.701894"
      ]
     },
     "execution_count": 25,
     "metadata": {},
     "output_type": "execute_result"
    }
   ],
   "source": [
    "lgb_predict[:5]"
   ]
  },
  {
   "cell_type": "code",
   "execution_count": 32,
   "metadata": {},
   "outputs": [],
   "source": [
    "data['lgb_predict'] = lgb_predict.values"
   ]
  },
  {
   "cell_type": "code",
   "execution_count": 37,
   "metadata": {},
   "outputs": [
    {
     "data": {
      "text/html": [
       "<div>\n",
       "<style scoped>\n",
       "    .dataframe tbody tr th:only-of-type {\n",
       "        vertical-align: middle;\n",
       "    }\n",
       "\n",
       "    .dataframe tbody tr th {\n",
       "        vertical-align: top;\n",
       "    }\n",
       "\n",
       "    .dataframe thead th {\n",
       "        text-align: right;\n",
       "    }\n",
       "</style>\n",
       "<table border=\"1\" class=\"dataframe\">\n",
       "  <thead>\n",
       "    <tr style=\"text-align: right;\">\n",
       "      <th></th>\n",
       "      <th>trip_seconds</th>\n",
       "      <th>fare</th>\n",
       "      <th>tips</th>\n",
       "      <th>tolls</th>\n",
       "      <th>extras</th>\n",
       "      <th>trip_km</th>\n",
       "      <th>trip_total</th>\n",
       "      <th>lgb_predict</th>\n",
       "    </tr>\n",
       "  </thead>\n",
       "  <tbody>\n",
       "    <tr>\n",
       "      <th>0</th>\n",
       "      <td>180.0</td>\n",
       "      <td>4.50</td>\n",
       "      <td>0.00</td>\n",
       "      <td>0.0</td>\n",
       "      <td>0.0</td>\n",
       "      <td>0.643700</td>\n",
       "      <td>4.50</td>\n",
       "      <td>4.097612</td>\n",
       "    </tr>\n",
       "    <tr>\n",
       "      <th>1</th>\n",
       "      <td>480.0</td>\n",
       "      <td>7.00</td>\n",
       "      <td>0.00</td>\n",
       "      <td>0.0</td>\n",
       "      <td>0.0</td>\n",
       "      <td>1.770300</td>\n",
       "      <td>7.00</td>\n",
       "      <td>12.239074</td>\n",
       "    </tr>\n",
       "    <tr>\n",
       "      <th>2</th>\n",
       "      <td>1080.0</td>\n",
       "      <td>17.75</td>\n",
       "      <td>0.00</td>\n",
       "      <td>0.0</td>\n",
       "      <td>0.0</td>\n",
       "      <td>9.977900</td>\n",
       "      <td>17.75</td>\n",
       "      <td>7.992824</td>\n",
       "    </tr>\n",
       "    <tr>\n",
       "      <th>3</th>\n",
       "      <td>60.0</td>\n",
       "      <td>3.75</td>\n",
       "      <td>0.00</td>\n",
       "      <td>0.0</td>\n",
       "      <td>0.0</td>\n",
       "      <td>0.321900</td>\n",
       "      <td>3.75</td>\n",
       "      <td>7.990778</td>\n",
       "    </tr>\n",
       "    <tr>\n",
       "      <th>4</th>\n",
       "      <td>180.0</td>\n",
       "      <td>5.00</td>\n",
       "      <td>2.00</td>\n",
       "      <td>0.0</td>\n",
       "      <td>1.5</td>\n",
       "      <td>1.001646</td>\n",
       "      <td>8.50</td>\n",
       "      <td>8.701894</td>\n",
       "    </tr>\n",
       "    <tr>\n",
       "      <th>...</th>\n",
       "      <td>...</td>\n",
       "      <td>...</td>\n",
       "      <td>...</td>\n",
       "      <td>...</td>\n",
       "      <td>...</td>\n",
       "      <td>...</td>\n",
       "      <td>...</td>\n",
       "      <td>...</td>\n",
       "    </tr>\n",
       "    <tr>\n",
       "      <th>1384033</th>\n",
       "      <td>540.0</td>\n",
       "      <td>12.25</td>\n",
       "      <td>2.45</td>\n",
       "      <td>0.0</td>\n",
       "      <td>0.0</td>\n",
       "      <td>0.321900</td>\n",
       "      <td>14.70</td>\n",
       "      <td>4.013168</td>\n",
       "    </tr>\n",
       "    <tr>\n",
       "      <th>1384034</th>\n",
       "      <td>840.0</td>\n",
       "      <td>10.25</td>\n",
       "      <td>0.00</td>\n",
       "      <td>0.0</td>\n",
       "      <td>0.0</td>\n",
       "      <td>3.862400</td>\n",
       "      <td>10.25</td>\n",
       "      <td>8.764650</td>\n",
       "    </tr>\n",
       "    <tr>\n",
       "      <th>1384035</th>\n",
       "      <td>1380.0</td>\n",
       "      <td>44.00</td>\n",
       "      <td>5.00</td>\n",
       "      <td>0.0</td>\n",
       "      <td>0.0</td>\n",
       "      <td>28.807300</td>\n",
       "      <td>49.00</td>\n",
       "      <td>7.997095</td>\n",
       "    </tr>\n",
       "    <tr>\n",
       "      <th>1384036</th>\n",
       "      <td>960.0</td>\n",
       "      <td>11.75</td>\n",
       "      <td>0.00</td>\n",
       "      <td>0.0</td>\n",
       "      <td>1.0</td>\n",
       "      <td>4.023400</td>\n",
       "      <td>12.75</td>\n",
       "      <td>14.243131</td>\n",
       "    </tr>\n",
       "    <tr>\n",
       "      <th>1384037</th>\n",
       "      <td>360.0</td>\n",
       "      <td>8.25</td>\n",
       "      <td>3.00</td>\n",
       "      <td>0.0</td>\n",
       "      <td>1.0</td>\n",
       "      <td>3.379600</td>\n",
       "      <td>12.25</td>\n",
       "      <td>11.919384</td>\n",
       "    </tr>\n",
       "  </tbody>\n",
       "</table>\n",
       "<p>1384038 rows × 8 columns</p>\n",
       "</div>"
      ],
      "text/plain": [
       "         trip_seconds   fare  tips  tolls  extras    trip_km  trip_total  \\\n",
       "0               180.0   4.50  0.00    0.0     0.0   0.643700        4.50   \n",
       "1               480.0   7.00  0.00    0.0     0.0   1.770300        7.00   \n",
       "2              1080.0  17.75  0.00    0.0     0.0   9.977900       17.75   \n",
       "3                60.0   3.75  0.00    0.0     0.0   0.321900        3.75   \n",
       "4               180.0   5.00  2.00    0.0     1.5   1.001646        8.50   \n",
       "...               ...    ...   ...    ...     ...        ...         ...   \n",
       "1384033         540.0  12.25  2.45    0.0     0.0   0.321900       14.70   \n",
       "1384034         840.0  10.25  0.00    0.0     0.0   3.862400       10.25   \n",
       "1384035        1380.0  44.00  5.00    0.0     0.0  28.807300       49.00   \n",
       "1384036         960.0  11.75  0.00    0.0     1.0   4.023400       12.75   \n",
       "1384037         360.0   8.25  3.00    0.0     1.0   3.379600       12.25   \n",
       "\n",
       "         lgb_predict  \n",
       "0           4.097612  \n",
       "1          12.239074  \n",
       "2           7.992824  \n",
       "3           7.990778  \n",
       "4           8.701894  \n",
       "...              ...  \n",
       "1384033     4.013168  \n",
       "1384034     8.764650  \n",
       "1384035     7.997095  \n",
       "1384036    14.243131  \n",
       "1384037    11.919384  \n",
       "\n",
       "[1384038 rows x 8 columns]"
      ]
     },
     "execution_count": 37,
     "metadata": {},
     "output_type": "execute_result"
    }
   ],
   "source": [
    "data"
   ]
  },
  {
   "cell_type": "code",
   "execution_count": 45,
   "metadata": {},
   "outputs": [
    {
     "data": {
      "text/plain": [
       "<matplotlib.axes._subplots.AxesSubplot at 0x1da0694ee48>"
      ]
     },
     "execution_count": 45,
     "metadata": {},
     "output_type": "execute_result"
    },
    {
     "data": {
      "image/png": "[encoded data removed]",
      "text/plain": [
       "<Figure size 1440x504 with 2 Axes>"
      ]
     },
     "metadata": {},
     "output_type": "display_data"
    }
   ],
   "source": [
    "fig, ax = plt.subplots(nrows=1, ncols=2, figsize=(20,7))\n",
    "data[['trip_total', 'lgb_predict']].plot(ax=ax[0])\n",
    "data[['trip_total', 'lgb_predict']].boxplot(ax=ax[1])"
   ]
  },
  {
   "cell_type": "markdown",
   "metadata": {},
   "source": [
    "- 예측 결과를 보면 모델이 정확하게 예측하지 못하는 것으로 보인다."
   ]
  },
  {
   "cell_type": "markdown",
   "metadata": {},
   "source": [
    "# Targe 변수를 fare로 변경하고 진행"
   ]
  },
  {
   "cell_type": "code",
   "execution_count": 46,
   "metadata": {},
   "outputs": [],
   "source": [
    "X = data[X_cols]\n",
    "y = data['fare']"
   ]
  },
  {
   "cell_type": "code",
   "execution_count": 47,
   "metadata": {},
   "outputs": [],
   "source": [
    "# Scaling\n",
    "\n",
    "X_scaler = MinMaxScaler()\n",
    "y_scaler = MinMaxScaler()\n",
    "X = X_scaler.fit_transform(X)\n",
    "#y = y_scaler.fit_transform(y.values.reshape(-1,1))"
   ]
  },
  {
   "cell_type": "code",
   "execution_count": 48,
   "metadata": {},
   "outputs": [],
   "source": [
    "# Train, Test splits\n",
    "\n",
    "X_train, X_test, y_train, y_test = train_test_split(X, y, test_size=0.3, shuffle=True)"
   ]
  },
  {
   "cell_type": "code",
   "execution_count": 49,
   "metadata": {},
   "outputs": [
    {
     "name": "stdout",
     "output_type": "stream",
     "text": [
      "Train Set :  (968826, 6)\n",
      "Test Set :  (415212, 6)\n"
     ]
    }
   ],
   "source": [
    "print('Train Set : ', X_train.shape)\n",
    "print('Test Set : ', X_test.shape)"
   ]
  },
  {
   "cell_type": "markdown",
   "metadata": {},
   "source": [
    "### Light Gradient Boosting Machine"
   ]
  },
  {
   "cell_type": "code",
   "execution_count": 50,
   "metadata": {},
   "outputs": [],
   "source": [
    "train_ds = lgb.Dataset(X_train, label=y_train)\n",
    "val_ds = lgb.Dataset(X_test, label=y_test)"
   ]
  },
  {
   "cell_type": "code",
   "execution_count": 51,
   "metadata": {},
   "outputs": [],
   "source": [
    "params = {\n",
    "            'learning_rate' : 0.01,\n",
    "            'boosting_type': 'gbdt',\n",
    "            'objective': 'tweedie',\n",
    "            'tweedie_variance_power': 1.1,\n",
    "            'metric': 'rmse',\n",
    "            'sub_row' : 0.75,\n",
    "            'lambda_l2' : 0.1\n",
    "        }"
   ]
  },
  {
   "cell_type": "code",
   "execution_count": 52,
   "metadata": {},
   "outputs": [
    {
     "name": "stdout",
     "output_type": "stream",
     "text": [
      "Training until validation scores don't improve for 100 rounds\n",
      "[100]\tvalid_0's rmse: 25.4901\n",
      "[200]\tvalid_0's rmse: 19.9266\n",
      "[300]\tvalid_0's rmse: 19.1107\n",
      "[400]\tvalid_0's rmse: 18.9642\n",
      "[500]\tvalid_0's rmse: 19.0545\n",
      "Early stopping, best iteration is:\n",
      "[420]\tvalid_0's rmse: 18.938\n"
     ]
    }
   ],
   "source": [
    "model = lgb.train(params,\n",
    "                  train_ds,\n",
    "                  5000,\n",
    "                  val_ds,\n",
    "                  verbose_eval = 100,\n",
    "                  early_stopping_rounds = 100\n",
    "                 )"
   ]
  },
  {
   "cell_type": "code",
   "execution_count": 53,
   "metadata": {},
   "outputs": [],
   "source": [
    "# 예측\n",
    "pred = model.predict(X_test)"
   ]
  },
  {
   "cell_type": "code",
   "execution_count": 54,
   "metadata": {},
   "outputs": [
    {
     "data": {
      "text/plain": [
       "array([19.36631683, 15.93384145,  5.10091166, ..., 10.76678459,\n",
       "       12.50226582, 20.61026685])"
      ]
     },
     "execution_count": 54,
     "metadata": {},
     "output_type": "execute_result"
    }
   ],
   "source": [
    "pred"
   ]
  },
  {
   "cell_type": "code",
   "execution_count": 55,
   "metadata": {},
   "outputs": [],
   "source": [
    "# 모델 실행 및 결과 확인\n",
    "X_test_predict=pd.DataFrame(\n",
    "    model.predict(X_test)).rename(\n",
    "    columns={0:'predict'})\n",
    "X_train_predict=pd.DataFrame(\n",
    "    model.predict(X_train)).rename(\n",
    "    columns={0:'predict'})\n",
    "\n",
    "# combine the training and testing dataframes to visualize\n",
    "# and compare.\n",
    "lgb_predict = X_train_predict.append(X_test_predict)"
   ]
  },
  {
   "cell_type": "code",
   "execution_count": 56,
   "metadata": {},
   "outputs": [
    {
     "data": {
      "text/html": [
       "<div>\n",
       "<style scoped>\n",
       "    .dataframe tbody tr th:only-of-type {\n",
       "        vertical-align: middle;\n",
       "    }\n",
       "\n",
       "    .dataframe tbody tr th {\n",
       "        vertical-align: top;\n",
       "    }\n",
       "\n",
       "    .dataframe thead th {\n",
       "        text-align: right;\n",
       "    }\n",
       "</style>\n",
       "<table border=\"1\" class=\"dataframe\">\n",
       "  <thead>\n",
       "    <tr style=\"text-align: right;\">\n",
       "      <th></th>\n",
       "      <th>predict</th>\n",
       "    </tr>\n",
       "  </thead>\n",
       "  <tbody>\n",
       "    <tr>\n",
       "      <th>0</th>\n",
       "      <td>5.838024</td>\n",
       "    </tr>\n",
       "    <tr>\n",
       "      <th>1</th>\n",
       "      <td>8.304214</td>\n",
       "    </tr>\n",
       "    <tr>\n",
       "      <th>2</th>\n",
       "      <td>6.825877</td>\n",
       "    </tr>\n",
       "    <tr>\n",
       "      <th>3</th>\n",
       "      <td>10.270349</td>\n",
       "    </tr>\n",
       "    <tr>\n",
       "      <th>4</th>\n",
       "      <td>10.022349</td>\n",
       "    </tr>\n",
       "  </tbody>\n",
       "</table>\n",
       "</div>"
      ],
      "text/plain": [
       "     predict\n",
       "0   5.838024\n",
       "1   8.304214\n",
       "2   6.825877\n",
       "3  10.270349\n",
       "4  10.022349"
      ]
     },
     "execution_count": 56,
     "metadata": {},
     "output_type": "execute_result"
    }
   ],
   "source": [
    "lgb_predict[:5]"
   ]
  },
  {
   "cell_type": "code",
   "execution_count": 57,
   "metadata": {},
   "outputs": [],
   "source": [
    "data['lgb_predict'] = lgb_predict.values"
   ]
  },
  {
   "cell_type": "code",
   "execution_count": 58,
   "metadata": {},
   "outputs": [
    {
     "data": {
      "text/html": [
       "<div>\n",
       "<style scoped>\n",
       "    .dataframe tbody tr th:only-of-type {\n",
       "        vertical-align: middle;\n",
       "    }\n",
       "\n",
       "    .dataframe tbody tr th {\n",
       "        vertical-align: top;\n",
       "    }\n",
       "\n",
       "    .dataframe thead th {\n",
       "        text-align: right;\n",
       "    }\n",
       "</style>\n",
       "<table border=\"1\" class=\"dataframe\">\n",
       "  <thead>\n",
       "    <tr style=\"text-align: right;\">\n",
       "      <th></th>\n",
       "      <th>trip_seconds</th>\n",
       "      <th>fare</th>\n",
       "      <th>tips</th>\n",
       "      <th>tolls</th>\n",
       "      <th>extras</th>\n",
       "      <th>trip_km</th>\n",
       "      <th>trip_total</th>\n",
       "      <th>lgb_predict</th>\n",
       "    </tr>\n",
       "  </thead>\n",
       "  <tbody>\n",
       "    <tr>\n",
       "      <th>0</th>\n",
       "      <td>180.0</td>\n",
       "      <td>4.50</td>\n",
       "      <td>0.00</td>\n",
       "      <td>0.0</td>\n",
       "      <td>0.0</td>\n",
       "      <td>0.643700</td>\n",
       "      <td>4.50</td>\n",
       "      <td>5.838024</td>\n",
       "    </tr>\n",
       "    <tr>\n",
       "      <th>1</th>\n",
       "      <td>480.0</td>\n",
       "      <td>7.00</td>\n",
       "      <td>0.00</td>\n",
       "      <td>0.0</td>\n",
       "      <td>0.0</td>\n",
       "      <td>1.770300</td>\n",
       "      <td>7.00</td>\n",
       "      <td>8.304214</td>\n",
       "    </tr>\n",
       "    <tr>\n",
       "      <th>2</th>\n",
       "      <td>1080.0</td>\n",
       "      <td>17.75</td>\n",
       "      <td>0.00</td>\n",
       "      <td>0.0</td>\n",
       "      <td>0.0</td>\n",
       "      <td>9.977900</td>\n",
       "      <td>17.75</td>\n",
       "      <td>6.825877</td>\n",
       "    </tr>\n",
       "    <tr>\n",
       "      <th>3</th>\n",
       "      <td>60.0</td>\n",
       "      <td>3.75</td>\n",
       "      <td>0.00</td>\n",
       "      <td>0.0</td>\n",
       "      <td>0.0</td>\n",
       "      <td>0.321900</td>\n",
       "      <td>3.75</td>\n",
       "      <td>10.270349</td>\n",
       "    </tr>\n",
       "    <tr>\n",
       "      <th>4</th>\n",
       "      <td>180.0</td>\n",
       "      <td>5.00</td>\n",
       "      <td>2.00</td>\n",
       "      <td>0.0</td>\n",
       "      <td>1.5</td>\n",
       "      <td>1.001646</td>\n",
       "      <td>8.50</td>\n",
       "      <td>10.022349</td>\n",
       "    </tr>\n",
       "    <tr>\n",
       "      <th>...</th>\n",
       "      <td>...</td>\n",
       "      <td>...</td>\n",
       "      <td>...</td>\n",
       "      <td>...</td>\n",
       "      <td>...</td>\n",
       "      <td>...</td>\n",
       "      <td>...</td>\n",
       "      <td>...</td>\n",
       "    </tr>\n",
       "    <tr>\n",
       "      <th>1384033</th>\n",
       "      <td>540.0</td>\n",
       "      <td>12.25</td>\n",
       "      <td>2.45</td>\n",
       "      <td>0.0</td>\n",
       "      <td>0.0</td>\n",
       "      <td>0.321900</td>\n",
       "      <td>14.70</td>\n",
       "      <td>6.085304</td>\n",
       "    </tr>\n",
       "    <tr>\n",
       "      <th>1384034</th>\n",
       "      <td>840.0</td>\n",
       "      <td>10.25</td>\n",
       "      <td>0.00</td>\n",
       "      <td>0.0</td>\n",
       "      <td>0.0</td>\n",
       "      <td>3.862400</td>\n",
       "      <td>10.25</td>\n",
       "      <td>8.304214</td>\n",
       "    </tr>\n",
       "    <tr>\n",
       "      <th>1384035</th>\n",
       "      <td>1380.0</td>\n",
       "      <td>44.00</td>\n",
       "      <td>5.00</td>\n",
       "      <td>0.0</td>\n",
       "      <td>0.0</td>\n",
       "      <td>28.807300</td>\n",
       "      <td>49.00</td>\n",
       "      <td>10.766785</td>\n",
       "    </tr>\n",
       "    <tr>\n",
       "      <th>1384036</th>\n",
       "      <td>960.0</td>\n",
       "      <td>11.75</td>\n",
       "      <td>0.00</td>\n",
       "      <td>0.0</td>\n",
       "      <td>1.0</td>\n",
       "      <td>4.023400</td>\n",
       "      <td>12.75</td>\n",
       "      <td>12.502266</td>\n",
       "    </tr>\n",
       "    <tr>\n",
       "      <th>1384037</th>\n",
       "      <td>360.0</td>\n",
       "      <td>8.25</td>\n",
       "      <td>3.00</td>\n",
       "      <td>0.0</td>\n",
       "      <td>1.0</td>\n",
       "      <td>3.379600</td>\n",
       "      <td>12.25</td>\n",
       "      <td>20.610267</td>\n",
       "    </tr>\n",
       "  </tbody>\n",
       "</table>\n",
       "<p>1384038 rows × 8 columns</p>\n",
       "</div>"
      ],
      "text/plain": [
       "         trip_seconds   fare  tips  tolls  extras    trip_km  trip_total  \\\n",
       "0               180.0   4.50  0.00    0.0     0.0   0.643700        4.50   \n",
       "1               480.0   7.00  0.00    0.0     0.0   1.770300        7.00   \n",
       "2              1080.0  17.75  0.00    0.0     0.0   9.977900       17.75   \n",
       "3                60.0   3.75  0.00    0.0     0.0   0.321900        3.75   \n",
       "4               180.0   5.00  2.00    0.0     1.5   1.001646        8.50   \n",
       "...               ...    ...   ...    ...     ...        ...         ...   \n",
       "1384033         540.0  12.25  2.45    0.0     0.0   0.321900       14.70   \n",
       "1384034         840.0  10.25  0.00    0.0     0.0   3.862400       10.25   \n",
       "1384035        1380.0  44.00  5.00    0.0     0.0  28.807300       49.00   \n",
       "1384036         960.0  11.75  0.00    0.0     1.0   4.023400       12.75   \n",
       "1384037         360.0   8.25  3.00    0.0     1.0   3.379600       12.25   \n",
       "\n",
       "         lgb_predict  \n",
       "0           5.838024  \n",
       "1           8.304214  \n",
       "2           6.825877  \n",
       "3          10.270349  \n",
       "4          10.022349  \n",
       "...              ...  \n",
       "1384033     6.085304  \n",
       "1384034     8.304214  \n",
       "1384035    10.766785  \n",
       "1384036    12.502266  \n",
       "1384037    20.610267  \n",
       "\n",
       "[1384038 rows x 8 columns]"
      ]
     },
     "execution_count": 58,
     "metadata": {},
     "output_type": "execute_result"
    }
   ],
   "source": [
    "data"
   ]
  },
  {
   "cell_type": "code",
   "execution_count": null,
   "metadata": {},
   "outputs": [],
   "source": []
  }
 ],
 "metadata": {
  "kernelspec": {
   "display_name": "Python 3",
   "language": "python",
   "name": "python3"
  },
  "language_info": {
   "codemirror_mode": {
    "name": "ipython",
    "version": 3
   },
   "file_extension": ".py",
   "mimetype": "text/x-python",
   "name": "python",
   "nbconvert_exporter": "python",
   "pygments_lexer": "ipython3",
   "version": "3.7.6"
  }
 },
 "nbformat": 4,
 "nbformat_minor": 4
}
