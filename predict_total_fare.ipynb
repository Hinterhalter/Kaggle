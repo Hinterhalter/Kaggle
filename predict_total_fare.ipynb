{
 "cells": [
  {
   "cell_type": "code",
   "execution_count": 1,
   "metadata": {},
   "outputs": [],
   "source": [
    "import pandas as pd, numpy as np, matplotlib.pyplot as plt, seaborn as sns, os, sys, datetime as dt, warnings\n",
    "\n",
    "%matplotlib inline\n",
    "from matplotlib import font_manager, rc\n",
    "font_name = font_manager.FontProperties(fname=\"c:/Windows/Fonts/malgun.ttf\").get_name()\n",
    "rc('font', family=font_name)\n",
    "plt.style.use('ggplot')\n",
    "color_pal = [\"#F8766D\", \"#D39200\", \"#93AA00\", \"#00BA38\", \"#00C19F\", \"#00B9E3\", \"#619CFF\", \"#DB72FB\"]\n",
    "warnings.filterwarnings(action='ignore')\n",
    "\n",
    "from sklearn.ensemble import RandomForestRegressor, GradientBoostingRegressor, StackingRegressor\n",
    "from sklearn.model_selection import GridSearchCV, train_test_split\n",
    "from sklearn.preprocessing import LabelEncoder, StandardScaler, MinMaxScaler\n",
    "from sklearn.metrics import mean_squared_error\n",
    "import lightgbm as lgb"
   ]
  },
  {
   "cell_type": "markdown",
   "metadata": {},
   "source": [
    "# Load Dataset"
   ]
  },
  {
   "cell_type": "code",
   "execution_count": 2,
   "metadata": {},
   "outputs": [
    {
     "data": {
      "text/html": [
       "<div>\n",
       "<style scoped>\n",
       "    .dataframe tbody tr th:only-of-type {\n",
       "        vertical-align: middle;\n",
       "    }\n",
       "\n",
       "    .dataframe tbody tr th {\n",
       "        vertical-align: top;\n",
       "    }\n",
       "\n",
       "    .dataframe thead th {\n",
       "        text-align: right;\n",
       "    }\n",
       "</style>\n",
       "<table border=\"1\" class=\"dataframe\">\n",
       "  <thead>\n",
       "    <tr style=\"text-align: right;\">\n",
       "      <th></th>\n",
       "      <th>taxi_id</th>\n",
       "      <th>trip_seconds</th>\n",
       "      <th>fare</th>\n",
       "      <th>tips</th>\n",
       "      <th>tolls</th>\n",
       "      <th>extras</th>\n",
       "      <th>trip_total</th>\n",
       "      <th>pickup_latitude</th>\n",
       "      <th>pickup_longitude</th>\n",
       "      <th>dropoff_latitude</th>\n",
       "      <th>dropoff_longitude</th>\n",
       "      <th>trip_minuate</th>\n",
       "      <th>trip_km</th>\n",
       "    </tr>\n",
       "  </thead>\n",
       "  <tbody>\n",
       "    <tr>\n",
       "      <th>0</th>\n",
       "      <td>85.0</td>\n",
       "      <td>180.0</td>\n",
       "      <td>4.50</td>\n",
       "      <td>0.0</td>\n",
       "      <td>0.0</td>\n",
       "      <td>0.0</td>\n",
       "      <td>4.50</td>\n",
       "      <td>199.0</td>\n",
       "      <td>510.0</td>\n",
       "      <td>199.0</td>\n",
       "      <td>510.0</td>\n",
       "      <td>3.0</td>\n",
       "      <td>0.643700</td>\n",
       "    </tr>\n",
       "    <tr>\n",
       "      <th>1</th>\n",
       "      <td>4237.0</td>\n",
       "      <td>480.0</td>\n",
       "      <td>7.00</td>\n",
       "      <td>0.0</td>\n",
       "      <td>0.0</td>\n",
       "      <td>0.0</td>\n",
       "      <td>7.00</td>\n",
       "      <td>686.0</td>\n",
       "      <td>500.0</td>\n",
       "      <td>686.0</td>\n",
       "      <td>500.0</td>\n",
       "      <td>8.0</td>\n",
       "      <td>1.770300</td>\n",
       "    </tr>\n",
       "    <tr>\n",
       "      <th>2</th>\n",
       "      <td>1987.0</td>\n",
       "      <td>1080.0</td>\n",
       "      <td>17.75</td>\n",
       "      <td>0.0</td>\n",
       "      <td>0.0</td>\n",
       "      <td>0.0</td>\n",
       "      <td>17.75</td>\n",
       "      <td>599.0</td>\n",
       "      <td>346.0</td>\n",
       "      <td>660.0</td>\n",
       "      <td>120.0</td>\n",
       "      <td>18.0</td>\n",
       "      <td>9.977900</td>\n",
       "    </tr>\n",
       "    <tr>\n",
       "      <th>3</th>\n",
       "      <td>6400.0</td>\n",
       "      <td>60.0</td>\n",
       "      <td>3.75</td>\n",
       "      <td>0.0</td>\n",
       "      <td>0.0</td>\n",
       "      <td>0.0</td>\n",
       "      <td>3.75</td>\n",
       "      <td>527.0</td>\n",
       "      <td>24.0</td>\n",
       "      <td>527.0</td>\n",
       "      <td>24.0</td>\n",
       "      <td>1.0</td>\n",
       "      <td>0.321900</td>\n",
       "    </tr>\n",
       "    <tr>\n",
       "      <th>4</th>\n",
       "      <td>7418.0</td>\n",
       "      <td>180.0</td>\n",
       "      <td>5.00</td>\n",
       "      <td>2.0</td>\n",
       "      <td>0.0</td>\n",
       "      <td>1.5</td>\n",
       "      <td>8.50</td>\n",
       "      <td>210.0</td>\n",
       "      <td>470.0</td>\n",
       "      <td>744.0</td>\n",
       "      <td>605.0</td>\n",
       "      <td>3.0</td>\n",
       "      <td>1.001646</td>\n",
       "    </tr>\n",
       "  </tbody>\n",
       "</table>\n",
       "</div>"
      ],
      "text/plain": [
       "   taxi_id  trip_seconds   fare  tips  tolls  extras  trip_total  \\\n",
       "0     85.0         180.0   4.50   0.0    0.0     0.0        4.50   \n",
       "1   4237.0         480.0   7.00   0.0    0.0     0.0        7.00   \n",
       "2   1987.0        1080.0  17.75   0.0    0.0     0.0       17.75   \n",
       "3   6400.0          60.0   3.75   0.0    0.0     0.0        3.75   \n",
       "4   7418.0         180.0   5.00   2.0    0.0     1.5        8.50   \n",
       "\n",
       "   pickup_latitude  pickup_longitude  dropoff_latitude  dropoff_longitude  \\\n",
       "0            199.0             510.0             199.0              510.0   \n",
       "1            686.0             500.0             686.0              500.0   \n",
       "2            599.0             346.0             660.0              120.0   \n",
       "3            527.0              24.0             527.0               24.0   \n",
       "4            210.0             470.0             744.0              605.0   \n",
       "\n",
       "   trip_minuate   trip_km  \n",
       "0           3.0  0.643700  \n",
       "1           8.0  1.770300  \n",
       "2          18.0  9.977900  \n",
       "3           1.0  0.321900  \n",
       "4           3.0  1.001646  "
      ]
     },
     "execution_count": 2,
     "metadata": {},
     "output_type": "execute_result"
    }
   ],
   "source": [
    "df_raw = pd.read_csv('new_jan_1.csv')\n",
    "df_raw.head()"
   ]
  },
  {
   "cell_type": "code",
   "execution_count": 3,
   "metadata": {},
   "outputs": [],
   "source": [
    "df = df_raw.copy()"
   ]
  },
  {
   "cell_type": "markdown",
   "metadata": {},
   "source": [
    "# EDA"
   ]
  },
  {
   "cell_type": "markdown",
   "metadata": {},
   "source": [
    "#### Missing Values"
   ]
  },
  {
   "cell_type": "code",
   "execution_count": 4,
   "metadata": {},
   "outputs": [
    {
     "data": {
      "text/plain": [
       "taxi_id              0\n",
       "trip_seconds         0\n",
       "fare                 0\n",
       "tips                 0\n",
       "tolls                0\n",
       "extras               0\n",
       "trip_total           0\n",
       "pickup_latitude      0\n",
       "pickup_longitude     0\n",
       "dropoff_latitude     0\n",
       "dropoff_longitude    0\n",
       "trip_minuate         0\n",
       "trip_km              0\n",
       "dtype: int64"
      ]
     },
     "execution_count": 4,
     "metadata": {},
     "output_type": "execute_result"
    }
   ],
   "source": [
    "df.isnull().sum()"
   ]
  },
  {
   "cell_type": "code",
   "execution_count": 5,
   "metadata": {},
   "outputs": [
    {
     "name": "stdout",
     "output_type": "stream",
     "text": [
      "<class 'pandas.core.frame.DataFrame'>\n",
      "RangeIndex: 1384038 entries, 0 to 1384037\n",
      "Data columns (total 13 columns):\n",
      " #   Column             Non-Null Count    Dtype  \n",
      "---  ------             --------------    -----  \n",
      " 0   taxi_id            1384038 non-null  float64\n",
      " 1   trip_seconds       1384038 non-null  float64\n",
      " 2   fare               1384038 non-null  float64\n",
      " 3   tips               1384038 non-null  float64\n",
      " 4   tolls              1384038 non-null  float64\n",
      " 5   extras             1384038 non-null  float64\n",
      " 6   trip_total         1384038 non-null  float64\n",
      " 7   pickup_latitude    1384038 non-null  float64\n",
      " 8   pickup_longitude   1384038 non-null  float64\n",
      " 9   dropoff_latitude   1384038 non-null  float64\n",
      " 10  dropoff_longitude  1384038 non-null  float64\n",
      " 11  trip_minuate       1384038 non-null  float64\n",
      " 12  trip_km            1384038 non-null  float64\n",
      "dtypes: float64(13)\n",
      "memory usage: 137.3 MB\n"
     ]
    }
   ],
   "source": [
    "df.info()"
   ]
  },
  {
   "cell_type": "code",
   "execution_count": 6,
   "metadata": {},
   "outputs": [
    {
     "data": {
      "text/plain": [
       "<matplotlib.axes._subplots.AxesSubplot at 0x1ff73443388>"
      ]
     },
     "execution_count": 6,
     "metadata": {},
     "output_type": "execute_result"
    },
    {
     "data": {
      "image/png": "[encoded data removed]",
      "text/plain": [
       "<Figure size 504x504 with 2 Axes>"
      ]
     },
     "metadata": {},
     "output_type": "display_data"
    }
   ],
   "source": [
    "plt.figure(figsize=(7,7))\n",
    "mask=df.corr() > 0.3\n",
    "sns.heatmap(df.corr(),cmap='YlGnBu',mask=mask,fmt='.1g')"
   ]
  },
  {
   "cell_type": "markdown",
   "metadata": {},
   "source": [
    "# Data Preprocessing"
   ]
  },
  {
   "cell_type": "code",
   "execution_count": 7,
   "metadata": {},
   "outputs": [
    {
     "data": {
      "text/plain": [
       "Index(['taxi_id', 'trip_seconds', 'fare', 'tips', 'tolls', 'extras',\n",
       "       'trip_total', 'pickup_latitude', 'pickup_longitude', 'dropoff_latitude',\n",
       "       'dropoff_longitude', 'trip_minuate', 'trip_km'],\n",
       "      dtype='object')"
      ]
     },
     "execution_count": 7,
     "metadata": {},
     "output_type": "execute_result"
    }
   ],
   "source": [
    "df.columns"
   ]
  },
  {
   "cell_type": "code",
   "execution_count": 8,
   "metadata": {},
   "outputs": [],
   "source": [
    "# 불필요 변수 삭제\n",
    "\n",
    "data = df[['trip_seconds', 'fare', 'tips', 'tolls', 'extras', 'trip_km', 'trip_total']]\n",
    "\n",
    "X_cols = list(data.columns)\n",
    "X_cols.remove('trip_total')"
   ]
  },
  {
   "cell_type": "code",
   "execution_count": 9,
   "metadata": {},
   "outputs": [
    {
     "data": {
      "text/plain": [
       "['trip_seconds', 'fare', 'tips', 'tolls', 'extras', 'trip_km']"
      ]
     },
     "execution_count": 9,
     "metadata": {},
     "output_type": "execute_result"
    }
   ],
   "source": [
    "X_cols"
   ]
  },
  {
   "cell_type": "code",
   "execution_count": 21,
   "metadata": {},
   "outputs": [],
   "source": [
    "X = data[X_cols]\n",
    "y = data['trip_total']\n",
    "y = np.log1p(y)"
   ]
  },
  {
   "cell_type": "code",
   "execution_count": 22,
   "metadata": {},
   "outputs": [],
   "source": [
    "# Scaling\n",
    "\n",
    "X_scaler = MinMaxScaler()\n",
    "y_scaler = MinMaxScaler()\n",
    "#X = X_scaler.fit_transform(X)\n",
    "#y = y_scaler.fit_transform(y.values.reshape(-1,1))"
   ]
  },
  {
   "cell_type": "code",
   "execution_count": 23,
   "metadata": {},
   "outputs": [],
   "source": [
    "# Train, Test splits\n",
    "\n",
    "X_train, X_test, y_train, y_test = train_test_split(X, y, test_size=0.3, shuffle=True)"
   ]
  },
  {
   "cell_type": "code",
   "execution_count": 15,
   "metadata": {},
   "outputs": [
    {
     "name": "stdout",
     "output_type": "stream",
     "text": [
      "Train Set :  (968826, 6)\n",
      "Test Set :  (415212, 6)\n"
     ]
    }
   ],
   "source": [
    "print('Train Set : ', X_train.shape)\n",
    "print('Test Set : ', X_test.shape)"
   ]
  },
  {
   "cell_type": "markdown",
   "metadata": {},
   "source": [
    "# Create Base Model"
   ]
  },
  {
   "cell_type": "markdown",
   "metadata": {},
   "source": [
    "### Light Gradient Boosting Machine"
   ]
  },
  {
   "cell_type": "code",
   "execution_count": 16,
   "metadata": {},
   "outputs": [],
   "source": [
    "train_ds = lgb.Dataset(X_train, label=y_train)\n",
    "val_ds = lgb.Dataset(X_test, label=y_test)"
   ]
  },
  {
   "cell_type": "code",
   "execution_count": 17,
   "metadata": {},
   "outputs": [],
   "source": [
    "params = {\n",
    "            'learning_rate' : 0.01,\n",
    "            'boosting_type': 'gbdt',\n",
    "            'objective': 'tweedie',\n",
    "            'tweedie_variance_power': 1.1,\n",
    "            'metric': 'rmse',\n",
    "            'sub_row' : 0.75,\n",
    "            'lambda_l2' : 0.1\n",
    "        }"
   ]
  },
  {
   "cell_type": "code",
   "execution_count": 18,
   "metadata": {},
   "outputs": [
    {
     "name": "stdout",
     "output_type": "stream",
     "text": [
      "Training until validation scores don't improve for 100 rounds\n",
      "[100]\tvalid_0's rmse: 0.241094\n",
      "[200]\tvalid_0's rmse: 0.0999905\n",
      "[300]\tvalid_0's rmse: 0.0495803\n",
      "[400]\tvalid_0's rmse: 0.0325871\n",
      "[500]\tvalid_0's rmse: 0.0269555\n",
      "[600]\tvalid_0's rmse: 0.0244676\n",
      "[700]\tvalid_0's rmse: 0.0235617\n",
      "[800]\tvalid_0's rmse: 0.0227671\n",
      "[900]\tvalid_0's rmse: 0.0222569\n",
      "[1000]\tvalid_0's rmse: 0.0219979\n",
      "[1100]\tvalid_0's rmse: 0.0217423\n",
      "[1200]\tvalid_0's rmse: 0.0215684\n",
      "[1300]\tvalid_0's rmse: 0.0213999\n",
      "[1400]\tvalid_0's rmse: 0.0212465\n",
      "[1500]\tvalid_0's rmse: 0.0211132\n",
      "[1600]\tvalid_0's rmse: 0.0210076\n",
      "[1700]\tvalid_0's rmse: 0.0209223\n",
      "[1800]\tvalid_0's rmse: 0.0208541\n",
      "[1900]\tvalid_0's rmse: 0.020801\n",
      "[2000]\tvalid_0's rmse: 0.0207614\n",
      "[2100]\tvalid_0's rmse: 0.0207134\n",
      "[2200]\tvalid_0's rmse: 0.0206611\n",
      "[2300]\tvalid_0's rmse: 0.0206239\n",
      "[2400]\tvalid_0's rmse: 0.0205911\n",
      "[2500]\tvalid_0's rmse: 0.0205565\n",
      "[2600]\tvalid_0's rmse: 0.0205289\n",
      "[2700]\tvalid_0's rmse: 0.020507\n",
      "[2800]\tvalid_0's rmse: 0.0204949\n",
      "[2900]\tvalid_0's rmse: 0.0204599\n",
      "[3000]\tvalid_0's rmse: 0.020434\n",
      "[3100]\tvalid_0's rmse: 0.0203964\n",
      "[3200]\tvalid_0's rmse: 0.0203713\n",
      "[3300]\tvalid_0's rmse: 0.0203408\n",
      "[3400]\tvalid_0's rmse: 0.0203184\n",
      "[3500]\tvalid_0's rmse: 0.0202964\n",
      "[3600]\tvalid_0's rmse: 0.0202713\n",
      "[3700]\tvalid_0's rmse: 0.0202523\n",
      "[3800]\tvalid_0's rmse: 0.020231\n",
      "[3900]\tvalid_0's rmse: 0.0202185\n",
      "[4000]\tvalid_0's rmse: 0.0201997\n",
      "[4100]\tvalid_0's rmse: 0.0201849\n",
      "[4200]\tvalid_0's rmse: 0.0201723\n",
      "[4300]\tvalid_0's rmse: 0.0201739\n",
      "Early stopping, best iteration is:\n",
      "[4213]\tvalid_0's rmse: 0.0201706\n"
     ]
    }
   ],
   "source": [
    "model = lgb.train(params,\n",
    "                  train_ds,\n",
    "                  5000,\n",
    "                  val_ds,\n",
    "                  verbose_eval = 100,\n",
    "                  early_stopping_rounds = 100\n",
    "                 )"
   ]
  },
  {
   "cell_type": "code",
   "execution_count": 25,
   "metadata": {},
   "outputs": [],
   "source": [
    "# 예측\n",
    "pred = model.predict(X_test)\n",
    "pred = np.exp(pred)"
   ]
  },
  {
   "cell_type": "code",
   "execution_count": 26,
   "metadata": {},
   "outputs": [
    {
     "data": {
      "text/plain": [
       "array([ 8.75903374,  6.75067887,  7.50547657, ...,  9.23969436,\n",
       "        7.00572704, 17.53172382])"
      ]
     },
     "execution_count": 26,
     "metadata": {},
     "output_type": "execute_result"
    }
   ],
   "source": [
    "pred"
   ]
  },
  {
   "cell_type": "code",
   "execution_count": 28,
   "metadata": {},
   "outputs": [
    {
     "data": {
      "text/plain": [
       "34.755159659421814"
      ]
     },
     "execution_count": 28,
     "metadata": {},
     "output_type": "execute_result"
    }
   ],
   "source": [
    "np.sqrt(mean_squared_error(y_test,pred))"
   ]
  },
  {
   "cell_type": "code",
   "execution_count": 29,
   "metadata": {},
   "outputs": [],
   "source": [
    "# 모델 실행 및 결과 확인\n",
    "X_test_predict=pd.DataFrame(\n",
    "    model.predict(X_test)).rename(\n",
    "    columns={0:'predict'})\n",
    "X_train_predict=pd.DataFrame(\n",
    "    model.predict(X_train)).rename(\n",
    "    columns={0:'predict'})\n",
    "\n",
    "# combine the training and testing dataframes to visualize\n",
    "# and compare.\n",
    "lgb_predict = X_train_predict.append(X_test_predict)"
   ]
  },
  {
   "cell_type": "code",
   "execution_count": 30,
   "metadata": {},
   "outputs": [
    {
     "data": {
      "text/html": [
       "<div>\n",
       "<style scoped>\n",
       "    .dataframe tbody tr th:only-of-type {\n",
       "        vertical-align: middle;\n",
       "    }\n",
       "\n",
       "    .dataframe tbody tr th {\n",
       "        vertical-align: top;\n",
       "    }\n",
       "\n",
       "    .dataframe thead th {\n",
       "        text-align: right;\n",
       "    }\n",
       "</style>\n",
       "<table border=\"1\" class=\"dataframe\">\n",
       "  <thead>\n",
       "    <tr style=\"text-align: right;\">\n",
       "      <th></th>\n",
       "      <th>predict</th>\n",
       "    </tr>\n",
       "  </thead>\n",
       "  <tbody>\n",
       "    <tr>\n",
       "      <th>0</th>\n",
       "      <td>2.714262</td>\n",
       "    </tr>\n",
       "    <tr>\n",
       "      <th>1</th>\n",
       "      <td>2.441489</td>\n",
       "    </tr>\n",
       "    <tr>\n",
       "      <th>2</th>\n",
       "      <td>1.608141</td>\n",
       "    </tr>\n",
       "    <tr>\n",
       "      <th>3</th>\n",
       "      <td>2.046260</td>\n",
       "    </tr>\n",
       "    <tr>\n",
       "      <th>4</th>\n",
       "      <td>3.147400</td>\n",
       "    </tr>\n",
       "  </tbody>\n",
       "</table>\n",
       "</div>"
      ],
      "text/plain": [
       "    predict\n",
       "0  2.714262\n",
       "1  2.441489\n",
       "2  1.608141\n",
       "3  2.046260\n",
       "4  3.147400"
      ]
     },
     "execution_count": 30,
     "metadata": {},
     "output_type": "execute_result"
    }
   ],
   "source": [
    "lgb_predict[:5]"
   ]
  },
  {
   "cell_type": "code",
   "execution_count": 31,
   "metadata": {},
   "outputs": [],
   "source": [
    "data['lgb_predict'] = lgb_predict.values"
   ]
  },
  {
   "cell_type": "code",
   "execution_count": 32,
   "metadata": {},
   "outputs": [
    {
     "data": {
      "text/html": [
       "<div>\n",
       "<style scoped>\n",
       "    .dataframe tbody tr th:only-of-type {\n",
       "        vertical-align: middle;\n",
       "    }\n",
       "\n",
       "    .dataframe tbody tr th {\n",
       "        vertical-align: top;\n",
       "    }\n",
       "\n",
       "    .dataframe thead th {\n",
       "        text-align: right;\n",
       "    }\n",
       "</style>\n",
       "<table border=\"1\" class=\"dataframe\">\n",
       "  <thead>\n",
       "    <tr style=\"text-align: right;\">\n",
       "      <th></th>\n",
       "      <th>trip_seconds</th>\n",
       "      <th>fare</th>\n",
       "      <th>tips</th>\n",
       "      <th>tolls</th>\n",
       "      <th>extras</th>\n",
       "      <th>trip_km</th>\n",
       "      <th>trip_total</th>\n",
       "      <th>lgb_predict</th>\n",
       "    </tr>\n",
       "  </thead>\n",
       "  <tbody>\n",
       "    <tr>\n",
       "      <th>0</th>\n",
       "      <td>180.0</td>\n",
       "      <td>4.50</td>\n",
       "      <td>0.00</td>\n",
       "      <td>0.0</td>\n",
       "      <td>0.0</td>\n",
       "      <td>0.643700</td>\n",
       "      <td>4.50</td>\n",
       "      <td>2.714262</td>\n",
       "    </tr>\n",
       "    <tr>\n",
       "      <th>1</th>\n",
       "      <td>480.0</td>\n",
       "      <td>7.00</td>\n",
       "      <td>0.00</td>\n",
       "      <td>0.0</td>\n",
       "      <td>0.0</td>\n",
       "      <td>1.770300</td>\n",
       "      <td>7.00</td>\n",
       "      <td>2.441489</td>\n",
       "    </tr>\n",
       "    <tr>\n",
       "      <th>2</th>\n",
       "      <td>1080.0</td>\n",
       "      <td>17.75</td>\n",
       "      <td>0.00</td>\n",
       "      <td>0.0</td>\n",
       "      <td>0.0</td>\n",
       "      <td>9.977900</td>\n",
       "      <td>17.75</td>\n",
       "      <td>1.608141</td>\n",
       "    </tr>\n",
       "    <tr>\n",
       "      <th>3</th>\n",
       "      <td>60.0</td>\n",
       "      <td>3.75</td>\n",
       "      <td>0.00</td>\n",
       "      <td>0.0</td>\n",
       "      <td>0.0</td>\n",
       "      <td>0.321900</td>\n",
       "      <td>3.75</td>\n",
       "      <td>2.046260</td>\n",
       "    </tr>\n",
       "    <tr>\n",
       "      <th>4</th>\n",
       "      <td>180.0</td>\n",
       "      <td>5.00</td>\n",
       "      <td>2.00</td>\n",
       "      <td>0.0</td>\n",
       "      <td>1.5</td>\n",
       "      <td>1.001646</td>\n",
       "      <td>8.50</td>\n",
       "      <td>3.147400</td>\n",
       "    </tr>\n",
       "    <tr>\n",
       "      <th>...</th>\n",
       "      <td>...</td>\n",
       "      <td>...</td>\n",
       "      <td>...</td>\n",
       "      <td>...</td>\n",
       "      <td>...</td>\n",
       "      <td>...</td>\n",
       "      <td>...</td>\n",
       "      <td>...</td>\n",
       "    </tr>\n",
       "    <tr>\n",
       "      <th>1384033</th>\n",
       "      <td>540.0</td>\n",
       "      <td>12.25</td>\n",
       "      <td>2.45</td>\n",
       "      <td>0.0</td>\n",
       "      <td>0.0</td>\n",
       "      <td>0.321900</td>\n",
       "      <td>14.70</td>\n",
       "      <td>1.832577</td>\n",
       "    </tr>\n",
       "    <tr>\n",
       "      <th>1384034</th>\n",
       "      <td>840.0</td>\n",
       "      <td>10.25</td>\n",
       "      <td>0.00</td>\n",
       "      <td>0.0</td>\n",
       "      <td>0.0</td>\n",
       "      <td>3.862400</td>\n",
       "      <td>10.25</td>\n",
       "      <td>2.250813</td>\n",
       "    </tr>\n",
       "    <tr>\n",
       "      <th>1384035</th>\n",
       "      <td>1380.0</td>\n",
       "      <td>44.00</td>\n",
       "      <td>5.00</td>\n",
       "      <td>0.0</td>\n",
       "      <td>0.0</td>\n",
       "      <td>28.807300</td>\n",
       "      <td>49.00</td>\n",
       "      <td>2.223509</td>\n",
       "    </tr>\n",
       "    <tr>\n",
       "      <th>1384036</th>\n",
       "      <td>960.0</td>\n",
       "      <td>11.75</td>\n",
       "      <td>0.00</td>\n",
       "      <td>0.0</td>\n",
       "      <td>1.0</td>\n",
       "      <td>4.023400</td>\n",
       "      <td>12.75</td>\n",
       "      <td>1.946728</td>\n",
       "    </tr>\n",
       "    <tr>\n",
       "      <th>1384037</th>\n",
       "      <td>360.0</td>\n",
       "      <td>8.25</td>\n",
       "      <td>3.00</td>\n",
       "      <td>0.0</td>\n",
       "      <td>1.0</td>\n",
       "      <td>3.379600</td>\n",
       "      <td>12.25</td>\n",
       "      <td>2.864012</td>\n",
       "    </tr>\n",
       "  </tbody>\n",
       "</table>\n",
       "<p>1384038 rows × 8 columns</p>\n",
       "</div>"
      ],
      "text/plain": [
       "         trip_seconds   fare  tips  tolls  extras    trip_km  trip_total  \\\n",
       "0               180.0   4.50  0.00    0.0     0.0   0.643700        4.50   \n",
       "1               480.0   7.00  0.00    0.0     0.0   1.770300        7.00   \n",
       "2              1080.0  17.75  0.00    0.0     0.0   9.977900       17.75   \n",
       "3                60.0   3.75  0.00    0.0     0.0   0.321900        3.75   \n",
       "4               180.0   5.00  2.00    0.0     1.5   1.001646        8.50   \n",
       "...               ...    ...   ...    ...     ...        ...         ...   \n",
       "1384033         540.0  12.25  2.45    0.0     0.0   0.321900       14.70   \n",
       "1384034         840.0  10.25  0.00    0.0     0.0   3.862400       10.25   \n",
       "1384035        1380.0  44.00  5.00    0.0     0.0  28.807300       49.00   \n",
       "1384036         960.0  11.75  0.00    0.0     1.0   4.023400       12.75   \n",
       "1384037         360.0   8.25  3.00    0.0     1.0   3.379600       12.25   \n",
       "\n",
       "         lgb_predict  \n",
       "0           2.714262  \n",
       "1           2.441489  \n",
       "2           1.608141  \n",
       "3           2.046260  \n",
       "4           3.147400  \n",
       "...              ...  \n",
       "1384033     1.832577  \n",
       "1384034     2.250813  \n",
       "1384035     2.223509  \n",
       "1384036     1.946728  \n",
       "1384037     2.864012  \n",
       "\n",
       "[1384038 rows x 8 columns]"
      ]
     },
     "execution_count": 32,
     "metadata": {},
     "output_type": "execute_result"
    }
   ],
   "source": [
    "data"
   ]
  },
  {
   "cell_type": "code",
   "execution_count": 33,
   "metadata": {},
   "outputs": [
    {
     "data": {
      "text/plain": [
       "<matplotlib.axes._subplots.AxesSubplot at 0x1ff1dd80088>"
      ]
     },
     "execution_count": 33,
     "metadata": {},
     "output_type": "execute_result"
    },
    {
     "data": {
      "image/png": "[encoded data removed]",
      "text/plain": [
       "<Figure size 1440x504 with 2 Axes>"
      ]
     },
     "metadata": {},
     "output_type": "display_data"
    }
   ],
   "source": [
    "fig, ax = plt.subplots(nrows=1, ncols=2, figsize=(20,7))\n",
    "data[['trip_total', 'lgb_predict']].plot(ax=ax[0])\n",
    "data[['trip_total', 'lgb_predict']].boxplot(ax=ax[1])"
   ]
  },
  {
   "cell_type": "markdown",
   "metadata": {},
   "source": [
    "- 예측 결과를 보면 모델이 정확하게 예측하지 못하는 것으로 보인다."
   ]
  },
  {
   "cell_type": "markdown",
   "metadata": {},
   "source": [
    "# Target 변수를 fare로 변경하고 진행"
   ]
  },
  {
   "cell_type": "code",
   "execution_count": 34,
   "metadata": {},
   "outputs": [],
   "source": [
    "X_cols = list(data.columns)\n",
    "X_cols.remove('fare')"
   ]
  },
  {
   "cell_type": "code",
   "execution_count": 35,
   "metadata": {},
   "outputs": [],
   "source": [
    "X = data[X_cols]\n",
    "y = data['fare']"
   ]
  },
  {
   "cell_type": "code",
   "execution_count": 36,
   "metadata": {},
   "outputs": [],
   "source": [
    "# Scaling\n",
    "\n",
    "X_scaler = MinMaxScaler()\n",
    "y_scaler = MinMaxScaler()\n",
    "X = X_scaler.fit_transform(X)\n",
    "#y = y_scaler.fit_transform(y.values.reshape(-1,1))"
   ]
  },
  {
   "cell_type": "code",
   "execution_count": 37,
   "metadata": {},
   "outputs": [],
   "source": [
    "# Train, Test splits\n",
    "\n",
    "X_train, X_test, y_train, y_test = train_test_split(X, y, test_size=0.3, shuffle=True)"
   ]
  },
  {
   "cell_type": "code",
   "execution_count": 38,
   "metadata": {},
   "outputs": [
    {
     "name": "stdout",
     "output_type": "stream",
     "text": [
      "Train Set :  (968826, 7)\n",
      "Test Set :  (415212, 7)\n"
     ]
    }
   ],
   "source": [
    "print('Train Set : ', X_train.shape)\n",
    "print('Test Set : ', X_test.shape)"
   ]
  },
  {
   "cell_type": "markdown",
   "metadata": {},
   "source": [
    "### Light Gradient Boosting Machine"
   ]
  },
  {
   "cell_type": "code",
   "execution_count": 39,
   "metadata": {},
   "outputs": [],
   "source": [
    "train_ds = lgb.Dataset(X_train, label=y_train)\n",
    "val_ds = lgb.Dataset(X_test, label=y_test)"
   ]
  },
  {
   "cell_type": "code",
   "execution_count": 40,
   "metadata": {},
   "outputs": [],
   "source": [
    "params = {\n",
    "            'learning_rate' : 0.01,\n",
    "            'boosting_type': 'gbdt',\n",
    "            'objective': 'tweedie',\n",
    "            'tweedie_variance_power': 1.1,\n",
    "            'metric': 'rmse',\n",
    "            'sub_row' : 0.75,\n",
    "            'lambda_l2' : 0.1\n",
    "        }"
   ]
  },
  {
   "cell_type": "code",
   "execution_count": 41,
   "metadata": {},
   "outputs": [
    {
     "name": "stdout",
     "output_type": "stream",
     "text": [
      "Training until validation scores don't improve for 100 rounds\n",
      "[100]\tvalid_0's rmse: 25.8897\n",
      "[200]\tvalid_0's rmse: 19.3323\n",
      "[300]\tvalid_0's rmse: 17.3948\n",
      "[400]\tvalid_0's rmse: 16.7388\n",
      "[500]\tvalid_0's rmse: 16.1537\n",
      "[600]\tvalid_0's rmse: 15.9116\n",
      "[700]\tvalid_0's rmse: 15.7833\n",
      "[800]\tvalid_0's rmse: 15.7182\n",
      "[900]\tvalid_0's rmse: 15.6876\n",
      "[1000]\tvalid_0's rmse: 15.6871\n",
      "Early stopping, best iteration is:\n",
      "[934]\tvalid_0's rmse: 15.6696\n"
     ]
    }
   ],
   "source": [
    "model = lgb.train(params,\n",
    "                  train_ds,\n",
    "                  5000,\n",
    "                  val_ds,\n",
    "                  verbose_eval = 100,\n",
    "                  early_stopping_rounds = 100\n",
    "                 )"
   ]
  },
  {
   "cell_type": "code",
   "execution_count": 42,
   "metadata": {},
   "outputs": [],
   "source": [
    "# 예측\n",
    "pred = model.predict(X_test)"
   ]
  },
  {
   "cell_type": "code",
   "execution_count": 43,
   "metadata": {},
   "outputs": [
    {
     "data": {
      "text/plain": [
       "array([ 6.14506955, 14.35275104,  5.79165501, ...,  8.28157673,\n",
       "        5.51362423,  9.26251086])"
      ]
     },
     "execution_count": 43,
     "metadata": {},
     "output_type": "execute_result"
    }
   ],
   "source": [
    "pred"
   ]
  },
  {
   "cell_type": "code",
   "execution_count": 44,
   "metadata": {},
   "outputs": [],
   "source": [
    "# 모델 실행 및 결과 확인\n",
    "X_test_predict=pd.DataFrame(\n",
    "    model.predict(X_test)).rename(\n",
    "    columns={0:'predict'})\n",
    "X_train_predict=pd.DataFrame(\n",
    "    model.predict(X_train)).rename(\n",
    "    columns={0:'predict'})\n",
    "\n",
    "# combine the training and testing dataframes to visualize\n",
    "# and compare.\n",
    "lgb_predict = X_train_predict.append(X_test_predict)"
   ]
  },
  {
   "cell_type": "code",
   "execution_count": 45,
   "metadata": {},
   "outputs": [
    {
     "data": {
      "text/html": [
       "<div>\n",
       "<style scoped>\n",
       "    .dataframe tbody tr th:only-of-type {\n",
       "        vertical-align: middle;\n",
       "    }\n",
       "\n",
       "    .dataframe tbody tr th {\n",
       "        vertical-align: top;\n",
       "    }\n",
       "\n",
       "    .dataframe thead th {\n",
       "        text-align: right;\n",
       "    }\n",
       "</style>\n",
       "<table border=\"1\" class=\"dataframe\">\n",
       "  <thead>\n",
       "    <tr style=\"text-align: right;\">\n",
       "      <th></th>\n",
       "      <th>predict</th>\n",
       "    </tr>\n",
       "  </thead>\n",
       "  <tbody>\n",
       "    <tr>\n",
       "      <th>0</th>\n",
       "      <td>8.184780</td>\n",
       "    </tr>\n",
       "    <tr>\n",
       "      <th>1</th>\n",
       "      <td>10.619822</td>\n",
       "    </tr>\n",
       "    <tr>\n",
       "      <th>2</th>\n",
       "      <td>11.601349</td>\n",
       "    </tr>\n",
       "    <tr>\n",
       "      <th>3</th>\n",
       "      <td>7.513953</td>\n",
       "    </tr>\n",
       "    <tr>\n",
       "      <th>4</th>\n",
       "      <td>34.813944</td>\n",
       "    </tr>\n",
       "  </tbody>\n",
       "</table>\n",
       "</div>"
      ],
      "text/plain": [
       "     predict\n",
       "0   8.184780\n",
       "1  10.619822\n",
       "2  11.601349\n",
       "3   7.513953\n",
       "4  34.813944"
      ]
     },
     "execution_count": 45,
     "metadata": {},
     "output_type": "execute_result"
    }
   ],
   "source": [
    "lgb_predict[:5]"
   ]
  },
  {
   "cell_type": "code",
   "execution_count": 46,
   "metadata": {},
   "outputs": [],
   "source": [
    "data['lgb_predict'] = lgb_predict.values"
   ]
  },
  {
   "cell_type": "code",
   "execution_count": 47,
   "metadata": {},
   "outputs": [
    {
     "data": {
      "text/html": [
       "<div>\n",
       "<style scoped>\n",
       "    .dataframe tbody tr th:only-of-type {\n",
       "        vertical-align: middle;\n",
       "    }\n",
       "\n",
       "    .dataframe tbody tr th {\n",
       "        vertical-align: top;\n",
       "    }\n",
       "\n",
       "    .dataframe thead th {\n",
       "        text-align: right;\n",
       "    }\n",
       "</style>\n",
       "<table border=\"1\" class=\"dataframe\">\n",
       "  <thead>\n",
       "    <tr style=\"text-align: right;\">\n",
       "      <th></th>\n",
       "      <th>trip_seconds</th>\n",
       "      <th>fare</th>\n",
       "      <th>tips</th>\n",
       "      <th>tolls</th>\n",
       "      <th>extras</th>\n",
       "      <th>trip_km</th>\n",
       "      <th>trip_total</th>\n",
       "      <th>lgb_predict</th>\n",
       "    </tr>\n",
       "  </thead>\n",
       "  <tbody>\n",
       "    <tr>\n",
       "      <th>0</th>\n",
       "      <td>180.0</td>\n",
       "      <td>4.50</td>\n",
       "      <td>0.00</td>\n",
       "      <td>0.0</td>\n",
       "      <td>0.0</td>\n",
       "      <td>0.643700</td>\n",
       "      <td>4.50</td>\n",
       "      <td>8.184780</td>\n",
       "    </tr>\n",
       "    <tr>\n",
       "      <th>1</th>\n",
       "      <td>480.0</td>\n",
       "      <td>7.00</td>\n",
       "      <td>0.00</td>\n",
       "      <td>0.0</td>\n",
       "      <td>0.0</td>\n",
       "      <td>1.770300</td>\n",
       "      <td>7.00</td>\n",
       "      <td>10.619822</td>\n",
       "    </tr>\n",
       "    <tr>\n",
       "      <th>2</th>\n",
       "      <td>1080.0</td>\n",
       "      <td>17.75</td>\n",
       "      <td>0.00</td>\n",
       "      <td>0.0</td>\n",
       "      <td>0.0</td>\n",
       "      <td>9.977900</td>\n",
       "      <td>17.75</td>\n",
       "      <td>11.601349</td>\n",
       "    </tr>\n",
       "    <tr>\n",
       "      <th>3</th>\n",
       "      <td>60.0</td>\n",
       "      <td>3.75</td>\n",
       "      <td>0.00</td>\n",
       "      <td>0.0</td>\n",
       "      <td>0.0</td>\n",
       "      <td>0.321900</td>\n",
       "      <td>3.75</td>\n",
       "      <td>7.513953</td>\n",
       "    </tr>\n",
       "    <tr>\n",
       "      <th>4</th>\n",
       "      <td>180.0</td>\n",
       "      <td>5.00</td>\n",
       "      <td>2.00</td>\n",
       "      <td>0.0</td>\n",
       "      <td>1.5</td>\n",
       "      <td>1.001646</td>\n",
       "      <td>8.50</td>\n",
       "      <td>34.813944</td>\n",
       "    </tr>\n",
       "    <tr>\n",
       "      <th>...</th>\n",
       "      <td>...</td>\n",
       "      <td>...</td>\n",
       "      <td>...</td>\n",
       "      <td>...</td>\n",
       "      <td>...</td>\n",
       "      <td>...</td>\n",
       "      <td>...</td>\n",
       "      <td>...</td>\n",
       "    </tr>\n",
       "    <tr>\n",
       "      <th>1384033</th>\n",
       "      <td>540.0</td>\n",
       "      <td>12.25</td>\n",
       "      <td>2.45</td>\n",
       "      <td>0.0</td>\n",
       "      <td>0.0</td>\n",
       "      <td>0.321900</td>\n",
       "      <td>14.70</td>\n",
       "      <td>29.219521</td>\n",
       "    </tr>\n",
       "    <tr>\n",
       "      <th>1384034</th>\n",
       "      <td>840.0</td>\n",
       "      <td>10.25</td>\n",
       "      <td>0.00</td>\n",
       "      <td>0.0</td>\n",
       "      <td>0.0</td>\n",
       "      <td>3.862400</td>\n",
       "      <td>10.25</td>\n",
       "      <td>44.618096</td>\n",
       "    </tr>\n",
       "    <tr>\n",
       "      <th>1384035</th>\n",
       "      <td>1380.0</td>\n",
       "      <td>44.00</td>\n",
       "      <td>5.00</td>\n",
       "      <td>0.0</td>\n",
       "      <td>0.0</td>\n",
       "      <td>28.807300</td>\n",
       "      <td>49.00</td>\n",
       "      <td>8.281577</td>\n",
       "    </tr>\n",
       "    <tr>\n",
       "      <th>1384036</th>\n",
       "      <td>960.0</td>\n",
       "      <td>11.75</td>\n",
       "      <td>0.00</td>\n",
       "      <td>0.0</td>\n",
       "      <td>1.0</td>\n",
       "      <td>4.023400</td>\n",
       "      <td>12.75</td>\n",
       "      <td>5.513624</td>\n",
       "    </tr>\n",
       "    <tr>\n",
       "      <th>1384037</th>\n",
       "      <td>360.0</td>\n",
       "      <td>8.25</td>\n",
       "      <td>3.00</td>\n",
       "      <td>0.0</td>\n",
       "      <td>1.0</td>\n",
       "      <td>3.379600</td>\n",
       "      <td>12.25</td>\n",
       "      <td>9.262511</td>\n",
       "    </tr>\n",
       "  </tbody>\n",
       "</table>\n",
       "<p>1384038 rows × 8 columns</p>\n",
       "</div>"
      ],
      "text/plain": [
       "         trip_seconds   fare  tips  tolls  extras    trip_km  trip_total  \\\n",
       "0               180.0   4.50  0.00    0.0     0.0   0.643700        4.50   \n",
       "1               480.0   7.00  0.00    0.0     0.0   1.770300        7.00   \n",
       "2              1080.0  17.75  0.00    0.0     0.0   9.977900       17.75   \n",
       "3                60.0   3.75  0.00    0.0     0.0   0.321900        3.75   \n",
       "4               180.0   5.00  2.00    0.0     1.5   1.001646        8.50   \n",
       "...               ...    ...   ...    ...     ...        ...         ...   \n",
       "1384033         540.0  12.25  2.45    0.0     0.0   0.321900       14.70   \n",
       "1384034         840.0  10.25  0.00    0.0     0.0   3.862400       10.25   \n",
       "1384035        1380.0  44.00  5.00    0.0     0.0  28.807300       49.00   \n",
       "1384036         960.0  11.75  0.00    0.0     1.0   4.023400       12.75   \n",
       "1384037         360.0   8.25  3.00    0.0     1.0   3.379600       12.25   \n",
       "\n",
       "         lgb_predict  \n",
       "0           8.184780  \n",
       "1          10.619822  \n",
       "2          11.601349  \n",
       "3           7.513953  \n",
       "4          34.813944  \n",
       "...              ...  \n",
       "1384033    29.219521  \n",
       "1384034    44.618096  \n",
       "1384035     8.281577  \n",
       "1384036     5.513624  \n",
       "1384037     9.262511  \n",
       "\n",
       "[1384038 rows x 8 columns]"
      ]
     },
     "execution_count": 47,
     "metadata": {},
     "output_type": "execute_result"
    }
   ],
   "source": [
    "data"
   ]
  },
  {
   "cell_type": "markdown",
   "metadata": {},
   "source": [
    "### Random Forest Feature Selection"
   ]
  },
  {
   "cell_type": "code",
   "execution_count": 44,
   "metadata": {},
   "outputs": [],
   "source": [
    "X = data[X_cols]\n",
    "y = data['trip_total']"
   ]
  },
  {
   "cell_type": "code",
   "execution_count": 45,
   "metadata": {},
   "outputs": [],
   "source": [
    "# Train, Test splits\n",
    "\n",
    "X_train, X_test, y_train, y_test = train_test_split(X, y, test_size=0.3, shuffle=True)"
   ]
  },
  {
   "cell_type": "code",
   "execution_count": 47,
   "metadata": {},
   "outputs": [
    {
     "data": {
      "text/plain": [
       "RandomForestRegressor()"
      ]
     },
     "execution_count": 47,
     "metadata": {},
     "output_type": "execute_result"
    }
   ],
   "source": [
    "# parameter 설정\n",
    "rf = RandomForestRegressor()\n",
    "rf.fit(X, y)"
   ]
  },
  {
   "cell_type": "code",
   "execution_count": 50,
   "metadata": {},
   "outputs": [
    {
     "data": {
      "text/html": [
       "<div>\n",
       "<style scoped>\n",
       "    .dataframe tbody tr th:only-of-type {\n",
       "        vertical-align: middle;\n",
       "    }\n",
       "\n",
       "    .dataframe tbody tr th {\n",
       "        vertical-align: top;\n",
       "    }\n",
       "\n",
       "    .dataframe thead th {\n",
       "        text-align: right;\n",
       "    }\n",
       "</style>\n",
       "<table border=\"1\" class=\"dataframe\">\n",
       "  <thead>\n",
       "    <tr style=\"text-align: right;\">\n",
       "      <th></th>\n",
       "      <th>Feature</th>\n",
       "      <th>Importance</th>\n",
       "    </tr>\n",
       "  </thead>\n",
       "  <tbody>\n",
       "    <tr>\n",
       "      <th>1</th>\n",
       "      <td>fare</td>\n",
       "      <td>0.599</td>\n",
       "    </tr>\n",
       "    <tr>\n",
       "      <th>4</th>\n",
       "      <td>extras</td>\n",
       "      <td>0.395</td>\n",
       "    </tr>\n",
       "    <tr>\n",
       "      <th>2</th>\n",
       "      <td>tips</td>\n",
       "      <td>0.003</td>\n",
       "    </tr>\n",
       "    <tr>\n",
       "      <th>0</th>\n",
       "      <td>trip_seconds</td>\n",
       "      <td>0.001</td>\n",
       "    </tr>\n",
       "    <tr>\n",
       "      <th>5</th>\n",
       "      <td>trip_km</td>\n",
       "      <td>0.001</td>\n",
       "    </tr>\n",
       "    <tr>\n",
       "      <th>3</th>\n",
       "      <td>tolls</td>\n",
       "      <td>0.001</td>\n",
       "    </tr>\n",
       "  </tbody>\n",
       "</table>\n",
       "</div>"
      ],
      "text/plain": [
       "        Feature  Importance\n",
       "1          fare       0.599\n",
       "4        extras       0.395\n",
       "2          tips       0.003\n",
       "0  trip_seconds       0.001\n",
       "5       trip_km       0.001\n",
       "3         tolls       0.001"
      ]
     },
     "execution_count": 50,
     "metadata": {},
     "output_type": "execute_result"
    }
   ],
   "source": [
    "# tree.feature_importances_로 설명변수 중요도 확인 및 테이블로 저장\n",
    "df_importance = pd.DataFrame()\n",
    "df_importance['Feature'] = list(X.columns)\n",
    "df_importance['Importance'] = rf.feature_importances_\n",
    "\n",
    "# df_feature_importance의 테이블을 중요도별로 정렬\n",
    "df_importance.sort_values(\"Importance\", ascending = False, inplace = True)\n",
    "df_importance.round(3).head(20)"
   ]
  },
  {
   "cell_type": "code",
   "execution_count": 51,
   "metadata": {},
   "outputs": [],
   "source": [
    "new_importance = df_importance[df_importance['Importance'] > 0.01]"
   ]
  },
  {
   "cell_type": "code",
   "execution_count": 52,
   "metadata": {},
   "outputs": [
    {
     "data": {
      "text/html": [
       "<div>\n",
       "<style scoped>\n",
       "    .dataframe tbody tr th:only-of-type {\n",
       "        vertical-align: middle;\n",
       "    }\n",
       "\n",
       "    .dataframe tbody tr th {\n",
       "        vertical-align: top;\n",
       "    }\n",
       "\n",
       "    .dataframe thead th {\n",
       "        text-align: right;\n",
       "    }\n",
       "</style>\n",
       "<table border=\"1\" class=\"dataframe\">\n",
       "  <thead>\n",
       "    <tr style=\"text-align: right;\">\n",
       "      <th></th>\n",
       "      <th>Feature</th>\n",
       "      <th>Importance</th>\n",
       "    </tr>\n",
       "  </thead>\n",
       "  <tbody>\n",
       "    <tr>\n",
       "      <th>1</th>\n",
       "      <td>fare</td>\n",
       "      <td>0.599192</td>\n",
       "    </tr>\n",
       "    <tr>\n",
       "      <th>4</th>\n",
       "      <td>extras</td>\n",
       "      <td>0.395286</td>\n",
       "    </tr>\n",
       "  </tbody>\n",
       "</table>\n",
       "</div>"
      ],
      "text/plain": [
       "  Feature  Importance\n",
       "1    fare    0.599192\n",
       "4  extras    0.395286"
      ]
     },
     "execution_count": 52,
     "metadata": {},
     "output_type": "execute_result"
    }
   ],
   "source": [
    "new_importance"
   ]
  },
  {
   "cell_type": "code",
   "execution_count": 53,
   "metadata": {},
   "outputs": [
    {
     "data": {
      "text/plain": [
       "Text(0, 0.5, '변수')"
      ]
     },
     "execution_count": 53,
     "metadata": {},
     "output_type": "execute_result"
    },
    {
     "data": {
      "image/png": "[encoded data removed]",
      "text/plain": [
       "<Figure size 432x288 with 1 Axes>"
      ]
     },
     "metadata": {},
     "output_type": "display_data"
    }
   ],
   "source": [
    "# 설명변수 중요도 그래\n",
    "# 중요도가 높은 변수를 상위에 그림\n",
    "# 상위 10개 확인\n",
    "df_importance1 = df_importance.head(15)\n",
    "df_importance1.sort_values(\"Importance\", ascending = True, inplace = True)\n",
    "coordinates = range(len(df_importance1))\n",
    "plt.barh(y = coordinates,\n",
    "        width = df_importance1['Importance'])\n",
    "plt.yticks(coordinates, df_importance1['Feature'])\n",
    "plt.xlabel('변수 중요도')\n",
    "plt.ylabel('변수')"
   ]
  },
  {
   "cell_type": "markdown",
   "metadata": {},
   "source": [
    "### Light Gradient Boosting Machine After Feature Select "
   ]
  },
  {
   "cell_type": "code",
   "execution_count": 73,
   "metadata": {},
   "outputs": [
    {
     "data": {
      "text/plain": [
       "Index(['trip_seconds', 'fare', 'tips', 'tolls', 'extras', 'trip_km',\n",
       "       'trip_total', 'lgb_predict'],\n",
       "      dtype='object')"
      ]
     },
     "execution_count": 73,
     "metadata": {},
     "output_type": "execute_result"
    }
   ],
   "source": [
    "data.columns"
   ]
  },
  {
   "cell_type": "code",
   "execution_count": 74,
   "metadata": {},
   "outputs": [],
   "source": [
    "X_cols = ['fare', 'extras']"
   ]
  },
  {
   "cell_type": "code",
   "execution_count": 75,
   "metadata": {},
   "outputs": [],
   "source": [
    "X = data[X_cols]\n",
    "y = data['trip_total']"
   ]
  },
  {
   "cell_type": "code",
   "execution_count": 76,
   "metadata": {},
   "outputs": [],
   "source": [
    "# Scaling\n",
    "\n",
    "X_scaler = MinMaxScaler()\n",
    "y_scaler = MinMaxScaler()\n",
    "X = X_scaler.fit_transform(X)\n",
    "#y = y_scaler.fit_transform(y.values.reshape(-1,1))"
   ]
  },
  {
   "cell_type": "code",
   "execution_count": 77,
   "metadata": {},
   "outputs": [],
   "source": [
    "# Train, Test splits\n",
    "\n",
    "X_train, X_test, y_train, y_test = train_test_split(X, y, test_size=0.3, shuffle=True)"
   ]
  },
  {
   "cell_type": "code",
   "execution_count": 78,
   "metadata": {},
   "outputs": [
    {
     "name": "stdout",
     "output_type": "stream",
     "text": [
      "Train Set :  (968826, 2)\n",
      "Test Set :  (415212, 2)\n"
     ]
    }
   ],
   "source": [
    "print('Train Set : ', X_train.shape)\n",
    "print('Test Set : ', X_test.shape)"
   ]
  },
  {
   "cell_type": "code",
   "execution_count": 79,
   "metadata": {},
   "outputs": [],
   "source": [
    "train_ds = lgb.Dataset(X_train, label=y_train)\n",
    "val_ds = lgb.Dataset(X_test, label=y_test)"
   ]
  },
  {
   "cell_type": "code",
   "execution_count": 80,
   "metadata": {},
   "outputs": [],
   "source": [
    "params = {\n",
    "            'learning_rate' : 0.01,\n",
    "            'boosting_type': 'gbdt',\n",
    "            'objective': 'tweedie',\n",
    "            'tweedie_variance_power': 1.1,\n",
    "            'metric': 'rmse',\n",
    "            'sub_row' : 0.75,\n",
    "            'lambda_l2' : 0.1\n",
    "        }"
   ]
  },
  {
   "cell_type": "code",
   "execution_count": 81,
   "metadata": {},
   "outputs": [
    {
     "name": "stdout",
     "output_type": "stream",
     "text": [
      "Training until validation scores don't improve for 100 rounds\n",
      "[100]\tvalid_0's rmse: 33.826\n",
      "[200]\tvalid_0's rmse: 27.7043\n",
      "[300]\tvalid_0's rmse: 25.6923\n",
      "[400]\tvalid_0's rmse: 24.8845\n",
      "[500]\tvalid_0's rmse: 24.4122\n",
      "[600]\tvalid_0's rmse: 24.2656\n",
      "[700]\tvalid_0's rmse: 24.1756\n",
      "[800]\tvalid_0's rmse: 24.0758\n",
      "[900]\tvalid_0's rmse: 23.9998\n",
      "[1000]\tvalid_0's rmse: 23.9788\n",
      "[1100]\tvalid_0's rmse: 23.9523\n",
      "[1200]\tvalid_0's rmse: 23.92\n",
      "[1300]\tvalid_0's rmse: 23.8891\n",
      "[1400]\tvalid_0's rmse: 23.8666\n",
      "[1500]\tvalid_0's rmse: 23.8493\n",
      "[1600]\tvalid_0's rmse: 23.8341\n",
      "[1700]\tvalid_0's rmse: 23.8216\n",
      "[1800]\tvalid_0's rmse: 23.8194\n",
      "[1900]\tvalid_0's rmse: 23.8189\n",
      "Early stopping, best iteration is:\n",
      "[1859]\tvalid_0's rmse: 23.8163\n"
     ]
    }
   ],
   "source": [
    "model = lgb.train(params,\n",
    "                  train_ds,\n",
    "                  5000,\n",
    "                  val_ds,\n",
    "                  verbose_eval = 100,\n",
    "                  early_stopping_rounds = 100\n",
    "                 )"
   ]
  },
  {
   "cell_type": "code",
   "execution_count": 82,
   "metadata": {},
   "outputs": [],
   "source": [
    "# 예측\n",
    "pred = model.predict(X_test)"
   ]
  },
  {
   "cell_type": "code",
   "execution_count": 83,
   "metadata": {},
   "outputs": [
    {
     "data": {
      "text/plain": [
       "array([ 9.57556691,  9.87531459, 53.20332389, ...,  7.01136171,\n",
       "        6.34869196,  7.01136171])"
      ]
     },
     "execution_count": 83,
     "metadata": {},
     "output_type": "execute_result"
    }
   ],
   "source": [
    "pred"
   ]
  },
  {
   "cell_type": "code",
   "execution_count": 84,
   "metadata": {},
   "outputs": [
    {
     "data": {
      "text/plain": [
       "23.816269755452876"
      ]
     },
     "execution_count": 84,
     "metadata": {},
     "output_type": "execute_result"
    }
   ],
   "source": [
    "np.sqrt(mean_squared_error(y_test,pred))"
   ]
  },
  {
   "cell_type": "code",
   "execution_count": 85,
   "metadata": {},
   "outputs": [],
   "source": [
    "# 모델 실행 및 결과 확인\n",
    "X_test_predict=pd.DataFrame(\n",
    "    model.predict(X_test)).rename(\n",
    "    columns={0:'predict'})\n",
    "X_train_predict=pd.DataFrame(\n",
    "    model.predict(X_train)).rename(\n",
    "    columns={0:'predict'})\n",
    "\n",
    "# combine the training and testing dataframes to visualize\n",
    "# and compare.\n",
    "lgb_predict = X_train_predict.append(X_test_predict)"
   ]
  },
  {
   "cell_type": "code",
   "execution_count": 86,
   "metadata": {},
   "outputs": [
    {
     "data": {
      "text/html": [
       "<div>\n",
       "<style scoped>\n",
       "    .dataframe tbody tr th:only-of-type {\n",
       "        vertical-align: middle;\n",
       "    }\n",
       "\n",
       "    .dataframe tbody tr th {\n",
       "        vertical-align: top;\n",
       "    }\n",
       "\n",
       "    .dataframe thead th {\n",
       "        text-align: right;\n",
       "    }\n",
       "</style>\n",
       "<table border=\"1\" class=\"dataframe\">\n",
       "  <thead>\n",
       "    <tr style=\"text-align: right;\">\n",
       "      <th></th>\n",
       "      <th>predict</th>\n",
       "    </tr>\n",
       "  </thead>\n",
       "  <tbody>\n",
       "    <tr>\n",
       "      <th>0</th>\n",
       "      <td>15.147927</td>\n",
       "    </tr>\n",
       "    <tr>\n",
       "      <th>1</th>\n",
       "      <td>11.678396</td>\n",
       "    </tr>\n",
       "    <tr>\n",
       "      <th>2</th>\n",
       "      <td>42.398954</td>\n",
       "    </tr>\n",
       "    <tr>\n",
       "      <th>3</th>\n",
       "      <td>6.170315</td>\n",
       "    </tr>\n",
       "    <tr>\n",
       "      <th>4</th>\n",
       "      <td>14.565228</td>\n",
       "    </tr>\n",
       "  </tbody>\n",
       "</table>\n",
       "</div>"
      ],
      "text/plain": [
       "     predict\n",
       "0  15.147927\n",
       "1  11.678396\n",
       "2  42.398954\n",
       "3   6.170315\n",
       "4  14.565228"
      ]
     },
     "execution_count": 86,
     "metadata": {},
     "output_type": "execute_result"
    }
   ],
   "source": [
    "lgb_predict[:5]"
   ]
  },
  {
   "cell_type": "code",
   "execution_count": 87,
   "metadata": {},
   "outputs": [],
   "source": [
    "data['lgb_predict'] = lgb_predict.values"
   ]
  },
  {
   "cell_type": "code",
   "execution_count": 88,
   "metadata": {},
   "outputs": [
    {
     "data": {
      "text/html": [
       "<div>\n",
       "<style scoped>\n",
       "    .dataframe tbody tr th:only-of-type {\n",
       "        vertical-align: middle;\n",
       "    }\n",
       "\n",
       "    .dataframe tbody tr th {\n",
       "        vertical-align: top;\n",
       "    }\n",
       "\n",
       "    .dataframe thead th {\n",
       "        text-align: right;\n",
       "    }\n",
       "</style>\n",
       "<table border=\"1\" class=\"dataframe\">\n",
       "  <thead>\n",
       "    <tr style=\"text-align: right;\">\n",
       "      <th></th>\n",
       "      <th>trip_seconds</th>\n",
       "      <th>fare</th>\n",
       "      <th>tips</th>\n",
       "      <th>tolls</th>\n",
       "      <th>extras</th>\n",
       "      <th>trip_km</th>\n",
       "      <th>trip_total</th>\n",
       "      <th>lgb_predict</th>\n",
       "    </tr>\n",
       "  </thead>\n",
       "  <tbody>\n",
       "    <tr>\n",
       "      <th>0</th>\n",
       "      <td>180.0</td>\n",
       "      <td>4.50</td>\n",
       "      <td>0.00</td>\n",
       "      <td>0.0</td>\n",
       "      <td>0.0</td>\n",
       "      <td>0.643700</td>\n",
       "      <td>4.50</td>\n",
       "      <td>15.147927</td>\n",
       "    </tr>\n",
       "    <tr>\n",
       "      <th>1</th>\n",
       "      <td>480.0</td>\n",
       "      <td>7.00</td>\n",
       "      <td>0.00</td>\n",
       "      <td>0.0</td>\n",
       "      <td>0.0</td>\n",
       "      <td>1.770300</td>\n",
       "      <td>7.00</td>\n",
       "      <td>11.678396</td>\n",
       "    </tr>\n",
       "    <tr>\n",
       "      <th>2</th>\n",
       "      <td>1080.0</td>\n",
       "      <td>17.75</td>\n",
       "      <td>0.00</td>\n",
       "      <td>0.0</td>\n",
       "      <td>0.0</td>\n",
       "      <td>9.977900</td>\n",
       "      <td>17.75</td>\n",
       "      <td>42.398954</td>\n",
       "    </tr>\n",
       "    <tr>\n",
       "      <th>3</th>\n",
       "      <td>60.0</td>\n",
       "      <td>3.75</td>\n",
       "      <td>0.00</td>\n",
       "      <td>0.0</td>\n",
       "      <td>0.0</td>\n",
       "      <td>0.321900</td>\n",
       "      <td>3.75</td>\n",
       "      <td>6.170315</td>\n",
       "    </tr>\n",
       "    <tr>\n",
       "      <th>4</th>\n",
       "      <td>180.0</td>\n",
       "      <td>5.00</td>\n",
       "      <td>2.00</td>\n",
       "      <td>0.0</td>\n",
       "      <td>1.5</td>\n",
       "      <td>1.001646</td>\n",
       "      <td>8.50</td>\n",
       "      <td>14.565228</td>\n",
       "    </tr>\n",
       "    <tr>\n",
       "      <th>...</th>\n",
       "      <td>...</td>\n",
       "      <td>...</td>\n",
       "      <td>...</td>\n",
       "      <td>...</td>\n",
       "      <td>...</td>\n",
       "      <td>...</td>\n",
       "      <td>...</td>\n",
       "      <td>...</td>\n",
       "    </tr>\n",
       "    <tr>\n",
       "      <th>1384033</th>\n",
       "      <td>540.0</td>\n",
       "      <td>12.25</td>\n",
       "      <td>2.45</td>\n",
       "      <td>0.0</td>\n",
       "      <td>0.0</td>\n",
       "      <td>0.321900</td>\n",
       "      <td>14.70</td>\n",
       "      <td>56.706585</td>\n",
       "    </tr>\n",
       "    <tr>\n",
       "      <th>1384034</th>\n",
       "      <td>840.0</td>\n",
       "      <td>10.25</td>\n",
       "      <td>0.00</td>\n",
       "      <td>0.0</td>\n",
       "      <td>0.0</td>\n",
       "      <td>3.862400</td>\n",
       "      <td>10.25</td>\n",
       "      <td>7.279975</td>\n",
       "    </tr>\n",
       "    <tr>\n",
       "      <th>1384035</th>\n",
       "      <td>1380.0</td>\n",
       "      <td>44.00</td>\n",
       "      <td>5.00</td>\n",
       "      <td>0.0</td>\n",
       "      <td>0.0</td>\n",
       "      <td>28.807300</td>\n",
       "      <td>49.00</td>\n",
       "      <td>7.011362</td>\n",
       "    </tr>\n",
       "    <tr>\n",
       "      <th>1384036</th>\n",
       "      <td>960.0</td>\n",
       "      <td>11.75</td>\n",
       "      <td>0.00</td>\n",
       "      <td>0.0</td>\n",
       "      <td>1.0</td>\n",
       "      <td>4.023400</td>\n",
       "      <td>12.75</td>\n",
       "      <td>6.348692</td>\n",
       "    </tr>\n",
       "    <tr>\n",
       "      <th>1384037</th>\n",
       "      <td>360.0</td>\n",
       "      <td>8.25</td>\n",
       "      <td>3.00</td>\n",
       "      <td>0.0</td>\n",
       "      <td>1.0</td>\n",
       "      <td>3.379600</td>\n",
       "      <td>12.25</td>\n",
       "      <td>7.011362</td>\n",
       "    </tr>\n",
       "  </tbody>\n",
       "</table>\n",
       "<p>1384038 rows × 8 columns</p>\n",
       "</div>"
      ],
      "text/plain": [
       "         trip_seconds   fare  tips  tolls  extras    trip_km  trip_total  \\\n",
       "0               180.0   4.50  0.00    0.0     0.0   0.643700        4.50   \n",
       "1               480.0   7.00  0.00    0.0     0.0   1.770300        7.00   \n",
       "2              1080.0  17.75  0.00    0.0     0.0   9.977900       17.75   \n",
       "3                60.0   3.75  0.00    0.0     0.0   0.321900        3.75   \n",
       "4               180.0   5.00  2.00    0.0     1.5   1.001646        8.50   \n",
       "...               ...    ...   ...    ...     ...        ...         ...   \n",
       "1384033         540.0  12.25  2.45    0.0     0.0   0.321900       14.70   \n",
       "1384034         840.0  10.25  0.00    0.0     0.0   3.862400       10.25   \n",
       "1384035        1380.0  44.00  5.00    0.0     0.0  28.807300       49.00   \n",
       "1384036         960.0  11.75  0.00    0.0     1.0   4.023400       12.75   \n",
       "1384037         360.0   8.25  3.00    0.0     1.0   3.379600       12.25   \n",
       "\n",
       "         lgb_predict  \n",
       "0          15.147927  \n",
       "1          11.678396  \n",
       "2          42.398954  \n",
       "3           6.170315  \n",
       "4          14.565228  \n",
       "...              ...  \n",
       "1384033    56.706585  \n",
       "1384034     7.279975  \n",
       "1384035     7.011362  \n",
       "1384036     6.348692  \n",
       "1384037     7.011362  \n",
       "\n",
       "[1384038 rows x 8 columns]"
      ]
     },
     "execution_count": 88,
     "metadata": {},
     "output_type": "execute_result"
    }
   ],
   "source": [
    "data"
   ]
  },
  {
   "cell_type": "code",
   "execution_count": 89,
   "metadata": {},
   "outputs": [
    {
     "data": {
      "text/plain": [
       "<matplotlib.axes._subplots.AxesSubplot at 0x1fe8be1fc48>"
      ]
     },
     "execution_count": 89,
     "metadata": {},
     "output_type": "execute_result"
    },
    {
     "data": {
      "image/png": "[encoded data removed]",
      "text/plain": [
       "<Figure size 1440x504 with 2 Axes>"
      ]
     },
     "metadata": {},
     "output_type": "display_data"
    }
   ],
   "source": [
    "fig, ax = plt.subplots(nrows=1, ncols=2, figsize=(20,7))\n",
    "data[['trip_total', 'lgb_predict']].plot(ax=ax[0])\n",
    "data[['trip_total', 'lgb_predict']].boxplot(ax=ax[1])"
   ]
  },
  {
   "cell_type": "code",
   "execution_count": 95,
   "metadata": {},
   "outputs": [
    {
     "data": {
      "text/plain": [
       "<matplotlib.axes._subplots.AxesSubplot at 0x1fe988e1c08>"
      ]
     },
     "execution_count": 95,
     "metadata": {},
     "output_type": "execute_result"
    },
    {
     "data": {
      "image/png": "[encoded data removed]",
      "text/plain": [
       "<Figure size 1440x504 with 2 Axes>"
      ]
     },
     "metadata": {},
     "output_type": "display_data"
    }
   ],
   "source": [
    "fig, ax = plt.subplots(nrows=1, ncols=2, figsize=(20,7))\n",
    "sns.distplot(data['trip_total'], ax=ax[0], color=color_pal[0])\n",
    "sns.distplot(data['lgb_predict'], ax=ax[1], color=color_pal[3])"
   ]
  },
  {
   "cell_type": "code",
   "execution_count": null,
   "metadata": {},
   "outputs": [],
   "source": []
  }
 ],
 "metadata": {
  "kernelspec": {
   "display_name": "Python 3",
   "language": "python",
   "name": "python3"
  },
  "language_info": {
   "codemirror_mode": {
    "name": "ipython",
    "version": 3
   },
   "file_extension": ".py",
   "mimetype": "text/x-python",
   "name": "python",
   "nbconvert_exporter": "python",
   "pygments_lexer": "ipython3",
   "version": "3.7.6"
  }
 },
 "nbformat": 4,
 "nbformat_minor": 4
}
