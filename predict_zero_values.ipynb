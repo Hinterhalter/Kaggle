{
 "cells": [
  {
   "cell_type": "code",
   "execution_count": 1,
   "metadata": {},
   "outputs": [],
   "source": [
    "import pandas as pd\n",
    "import numpy as np\n",
    "import matplotlib.pyplot as plt\n",
    "%matplotlib inline\n",
    "import seaborn as sns\n",
    "\n",
    "from matplotlib import font_manager, rc\n",
    "font_name = font_manager.FontProperties(fname=\"c:/Windows/Fonts/malgun.ttf\").get_name()\n",
    "rc('font', family=font_name)\n",
    "plt.style.use('ggplot')\n",
    "color_pal = [\"#F8766D\", \"#D39200\", \"#93AA00\", \"#00BA38\", \"#00C19F\", \"#00B9E3\", \"#619CFF\", \"#DB72FB\"]\n",
    "\n",
    "import warnings\n",
    "warnings.filterwarnings('ignore')\n",
    "\n",
    "from sklearn.ensemble import RandomForestRegressor\n",
    "from sklearn.model_selection import GridSearchCV, train_test_split"
   ]
  },
  {
   "cell_type": "code",
   "execution_count": 2,
   "metadata": {},
   "outputs": [],
   "source": [
    "df_raw = pd.read_csv('jan_1_zero.csv')\n",
    "df_raw.drop(\"Unnamed: 0\", axis=1, inplace=True)"
   ]
  },
  {
   "cell_type": "markdown",
   "metadata": {},
   "source": [
    "## 주행거리가 0인데 요금이 존재하는 데이터\n",
    "### 결측치로 가정하고 예측하는 모델을 생성한다.\n",
    "\n",
    "1. Missing Values Imputation\n",
    "2. RandomForest Regressor"
   ]
  },
  {
   "cell_type": "markdown",
   "metadata": {},
   "source": [
    "## Missing Values Imputation"
   ]
  },
  {
   "cell_type": "code",
   "execution_count": 3,
   "metadata": {},
   "outputs": [],
   "source": [
    "df = df_raw"
   ]
  },
  {
   "cell_type": "code",
   "execution_count": 4,
   "metadata": {},
   "outputs": [],
   "source": [
    "# 주행거리가 0인데 요금이있는경우\n",
    "idx_array = np.array(df[(df['trip_km']==0) & (df['trip_total']!=0)]['trip_km'].index)"
   ]
  },
  {
   "cell_type": "code",
   "execution_count": 5,
   "metadata": {},
   "outputs": [],
   "source": [
    "df.iloc[idx_array,4] = np.nan"
   ]
  },
  {
   "cell_type": "code",
   "execution_count": 6,
   "metadata": {},
   "outputs": [],
   "source": [
    "import numpy as np\n",
    "from sklearn.experimental import enable_iterative_imputer\n",
    "from sklearn.impute import IterativeImputer"
   ]
  },
  {
   "cell_type": "code",
   "execution_count": null,
   "metadata": {},
   "outputs": [],
   "source": [
    "imp = IterativeImputer(max_iter=10, random_state=0)\n",
    "imp.fit(df)\n",
    "\n",
    "X_test = \n",
    "# the model learns that the second feature is double the first\n",
    "print(np.round(imp.transform(X_test)))"
   ]
  },
  {
   "cell_type": "markdown",
   "metadata": {},
   "source": [
    "# Random Forest "
   ]
  },
  {
   "cell_type": "code",
   "execution_count": 7,
   "metadata": {},
   "outputs": [],
   "source": [
    "# 결측치 제거\n",
    "df = df_raw\n",
    "df.drop(['trip_start_timestamp', 'trip_end_timestamp', 'trip_miles', 'pickup_community_area', 'dropoff_community_area','payment_type'], axis=1, inplace=True)\n",
    "df = df.dropna()\n",
    "df.reset_index(inplace=True)\n",
    "df.drop(['index'], axis=1, inplace=True)"
   ]
  },
  {
   "cell_type": "code",
   "execution_count": 8,
   "metadata": {},
   "outputs": [
    {
     "data": {
      "text/plain": [
       "1384038"
      ]
     },
     "execution_count": 8,
     "metadata": {},
     "output_type": "execute_result"
    }
   ],
   "source": [
    "df.__len__()"
   ]
  },
  {
   "cell_type": "code",
   "execution_count": 9,
   "metadata": {},
   "outputs": [],
   "source": [
    "# 주행거리가 0인데 요금이있는경우\n",
    "idx_array1 = np.array(df[(df['trip_km']==0)].index)\n",
    "idx_array2 = np.array(df[(df['trip_km']!=0)].index)"
   ]
  },
  {
   "cell_type": "code",
   "execution_count": 10,
   "metadata": {},
   "outputs": [
    {
     "data": {
      "text/html": [
       "<div>\n",
       "<style scoped>\n",
       "    .dataframe tbody tr th:only-of-type {\n",
       "        vertical-align: middle;\n",
       "    }\n",
       "\n",
       "    .dataframe tbody tr th {\n",
       "        vertical-align: top;\n",
       "    }\n",
       "\n",
       "    .dataframe thead th {\n",
       "        text-align: right;\n",
       "    }\n",
       "</style>\n",
       "<table border=\"1\" class=\"dataframe\">\n",
       "  <thead>\n",
       "    <tr style=\"text-align: right;\">\n",
       "      <th></th>\n",
       "      <th>taxi_id</th>\n",
       "      <th>trip_seconds</th>\n",
       "      <th>fare</th>\n",
       "      <th>tips</th>\n",
       "      <th>tolls</th>\n",
       "      <th>extras</th>\n",
       "      <th>trip_total</th>\n",
       "      <th>pickup_latitude</th>\n",
       "      <th>pickup_longitude</th>\n",
       "      <th>dropoff_latitude</th>\n",
       "      <th>dropoff_longitude</th>\n",
       "      <th>trip_minuate</th>\n",
       "      <th>trip_km</th>\n",
       "    </tr>\n",
       "  </thead>\n",
       "  <tbody>\n",
       "    <tr>\n",
       "      <th>4</th>\n",
       "      <td>7418.0</td>\n",
       "      <td>180.0</td>\n",
       "      <td>5.00</td>\n",
       "      <td>2.0</td>\n",
       "      <td>0.0</td>\n",
       "      <td>1.5</td>\n",
       "      <td>8.50</td>\n",
       "      <td>210.0</td>\n",
       "      <td>470.0</td>\n",
       "      <td>744.0</td>\n",
       "      <td>605.0</td>\n",
       "      <td>3.0</td>\n",
       "      <td>0.0</td>\n",
       "    </tr>\n",
       "    <tr>\n",
       "      <th>6</th>\n",
       "      <td>6641.0</td>\n",
       "      <td>420.0</td>\n",
       "      <td>7.25</td>\n",
       "      <td>0.0</td>\n",
       "      <td>0.0</td>\n",
       "      <td>0.0</td>\n",
       "      <td>7.25</td>\n",
       "      <td>419.0</td>\n",
       "      <td>615.0</td>\n",
       "      <td>411.0</td>\n",
       "      <td>545.0</td>\n",
       "      <td>7.0</td>\n",
       "      <td>0.0</td>\n",
       "    </tr>\n",
       "    <tr>\n",
       "      <th>8</th>\n",
       "      <td>7984.0</td>\n",
       "      <td>420.0</td>\n",
       "      <td>6.25</td>\n",
       "      <td>0.0</td>\n",
       "      <td>0.0</td>\n",
       "      <td>0.0</td>\n",
       "      <td>6.25</td>\n",
       "      <td>419.0</td>\n",
       "      <td>615.0</td>\n",
       "      <td>681.0</td>\n",
       "      <td>196.0</td>\n",
       "      <td>7.0</td>\n",
       "      <td>0.0</td>\n",
       "    </tr>\n",
       "    <tr>\n",
       "      <th>10</th>\n",
       "      <td>221.0</td>\n",
       "      <td>720.0</td>\n",
       "      <td>10.75</td>\n",
       "      <td>0.0</td>\n",
       "      <td>0.0</td>\n",
       "      <td>0.0</td>\n",
       "      <td>10.75</td>\n",
       "      <td>642.0</td>\n",
       "      <td>32.0</td>\n",
       "      <td>411.0</td>\n",
       "      <td>545.0</td>\n",
       "      <td>12.0</td>\n",
       "      <td>0.0</td>\n",
       "    </tr>\n",
       "    <tr>\n",
       "      <th>12</th>\n",
       "      <td>5367.0</td>\n",
       "      <td>420.0</td>\n",
       "      <td>6.75</td>\n",
       "      <td>0.0</td>\n",
       "      <td>0.0</td>\n",
       "      <td>0.0</td>\n",
       "      <td>6.75</td>\n",
       "      <td>158.0</td>\n",
       "      <td>270.0</td>\n",
       "      <td>158.0</td>\n",
       "      <td>270.0</td>\n",
       "      <td>7.0</td>\n",
       "      <td>0.0</td>\n",
       "    </tr>\n",
       "    <tr>\n",
       "      <th>...</th>\n",
       "      <td>...</td>\n",
       "      <td>...</td>\n",
       "      <td>...</td>\n",
       "      <td>...</td>\n",
       "      <td>...</td>\n",
       "      <td>...</td>\n",
       "      <td>...</td>\n",
       "      <td>...</td>\n",
       "      <td>...</td>\n",
       "      <td>...</td>\n",
       "      <td>...</td>\n",
       "      <td>...</td>\n",
       "      <td>...</td>\n",
       "    </tr>\n",
       "    <tr>\n",
       "      <th>1384008</th>\n",
       "      <td>5122.0</td>\n",
       "      <td>420.0</td>\n",
       "      <td>7.25</td>\n",
       "      <td>1.0</td>\n",
       "      <td>0.0</td>\n",
       "      <td>0.0</td>\n",
       "      <td>8.25</td>\n",
       "      <td>744.0</td>\n",
       "      <td>605.0</td>\n",
       "      <td>18.0</td>\n",
       "      <td>610.0</td>\n",
       "      <td>7.0</td>\n",
       "      <td>0.0</td>\n",
       "    </tr>\n",
       "    <tr>\n",
       "      <th>1384012</th>\n",
       "      <td>1592.0</td>\n",
       "      <td>480.0</td>\n",
       "      <td>10.00</td>\n",
       "      <td>0.0</td>\n",
       "      <td>0.0</td>\n",
       "      <td>0.0</td>\n",
       "      <td>10.00</td>\n",
       "      <td>599.0</td>\n",
       "      <td>346.0</td>\n",
       "      <td>199.0</td>\n",
       "      <td>510.0</td>\n",
       "      <td>8.0</td>\n",
       "      <td>0.0</td>\n",
       "    </tr>\n",
       "    <tr>\n",
       "      <th>1384017</th>\n",
       "      <td>7976.0</td>\n",
       "      <td>0.0</td>\n",
       "      <td>3.25</td>\n",
       "      <td>0.0</td>\n",
       "      <td>0.0</td>\n",
       "      <td>0.0</td>\n",
       "      <td>3.25</td>\n",
       "      <td>686.0</td>\n",
       "      <td>500.0</td>\n",
       "      <td>686.0</td>\n",
       "      <td>500.0</td>\n",
       "      <td>0.0</td>\n",
       "      <td>0.0</td>\n",
       "    </tr>\n",
       "    <tr>\n",
       "      <th>1384029</th>\n",
       "      <td>5910.0</td>\n",
       "      <td>300.0</td>\n",
       "      <td>5.75</td>\n",
       "      <td>1.5</td>\n",
       "      <td>0.0</td>\n",
       "      <td>0.0</td>\n",
       "      <td>7.25</td>\n",
       "      <td>18.0</td>\n",
       "      <td>610.0</td>\n",
       "      <td>30.0</td>\n",
       "      <td>405.0</td>\n",
       "      <td>5.0</td>\n",
       "      <td>0.0</td>\n",
       "    </tr>\n",
       "    <tr>\n",
       "      <th>1384030</th>\n",
       "      <td>4579.0</td>\n",
       "      <td>360.0</td>\n",
       "      <td>6.50</td>\n",
       "      <td>0.0</td>\n",
       "      <td>0.0</td>\n",
       "      <td>1.0</td>\n",
       "      <td>7.50</td>\n",
       "      <td>454.0</td>\n",
       "      <td>453.0</td>\n",
       "      <td>724.0</td>\n",
       "      <td>47.0</td>\n",
       "      <td>6.0</td>\n",
       "      <td>0.0</td>\n",
       "    </tr>\n",
       "  </tbody>\n",
       "</table>\n",
       "<p>288832 rows × 13 columns</p>\n",
       "</div>"
      ],
      "text/plain": [
       "         taxi_id  trip_seconds   fare  tips  tolls  extras  trip_total  \\\n",
       "4         7418.0         180.0   5.00   2.0    0.0     1.5        8.50   \n",
       "6         6641.0         420.0   7.25   0.0    0.0     0.0        7.25   \n",
       "8         7984.0         420.0   6.25   0.0    0.0     0.0        6.25   \n",
       "10         221.0         720.0  10.75   0.0    0.0     0.0       10.75   \n",
       "12        5367.0         420.0   6.75   0.0    0.0     0.0        6.75   \n",
       "...          ...           ...    ...   ...    ...     ...         ...   \n",
       "1384008   5122.0         420.0   7.25   1.0    0.0     0.0        8.25   \n",
       "1384012   1592.0         480.0  10.00   0.0    0.0     0.0       10.00   \n",
       "1384017   7976.0           0.0   3.25   0.0    0.0     0.0        3.25   \n",
       "1384029   5910.0         300.0   5.75   1.5    0.0     0.0        7.25   \n",
       "1384030   4579.0         360.0   6.50   0.0    0.0     1.0        7.50   \n",
       "\n",
       "         pickup_latitude  pickup_longitude  dropoff_latitude  \\\n",
       "4                  210.0             470.0             744.0   \n",
       "6                  419.0             615.0             411.0   \n",
       "8                  419.0             615.0             681.0   \n",
       "10                 642.0              32.0             411.0   \n",
       "12                 158.0             270.0             158.0   \n",
       "...                  ...               ...               ...   \n",
       "1384008            744.0             605.0              18.0   \n",
       "1384012            599.0             346.0             199.0   \n",
       "1384017            686.0             500.0             686.0   \n",
       "1384029             18.0             610.0              30.0   \n",
       "1384030            454.0             453.0             724.0   \n",
       "\n",
       "         dropoff_longitude  trip_minuate  trip_km  \n",
       "4                    605.0           3.0      0.0  \n",
       "6                    545.0           7.0      0.0  \n",
       "8                    196.0           7.0      0.0  \n",
       "10                   545.0          12.0      0.0  \n",
       "12                   270.0           7.0      0.0  \n",
       "...                    ...           ...      ...  \n",
       "1384008              610.0           7.0      0.0  \n",
       "1384012              510.0           8.0      0.0  \n",
       "1384017              500.0           0.0      0.0  \n",
       "1384029              405.0           5.0      0.0  \n",
       "1384030               47.0           6.0      0.0  \n",
       "\n",
       "[288832 rows x 13 columns]"
      ]
     },
     "execution_count": 10,
     "metadata": {},
     "output_type": "execute_result"
    }
   ],
   "source": [
    "df.iloc[idx_array1,:]"
   ]
  },
  {
   "cell_type": "code",
   "execution_count": 11,
   "metadata": {},
   "outputs": [],
   "source": [
    "# train, test, val set을 설정한다.\n",
    "# validation set은 위의 조건에 맞는 주행거리가 0인데 요금 정보가 있는 값들로 한다.\n",
    "\n",
    "# train, test set\n",
    "df1 = df.iloc[idx_array2,:]\n",
    "\n",
    "# train, test split\n",
    "train_set, test_set = train_test_split(df1, test_size=0.3)\n",
    "\n",
    "# validation set\n",
    "val_set = df.iloc[idx_array1,:]"
   ]
  },
  {
   "cell_type": "code",
   "execution_count": 12,
   "metadata": {},
   "outputs": [
    {
     "name": "stdout",
     "output_type": "stream",
     "text": [
      "1384038 1095206 288832\n"
     ]
    }
   ],
   "source": [
    "print(df.__len__(), df1.__len__(), val_set.__len__())"
   ]
  },
  {
   "cell_type": "code",
   "execution_count": 13,
   "metadata": {},
   "outputs": [],
   "source": [
    "X_cols = list(df.columns)\n",
    "# 예측할 target 값인 trip_km\n",
    "X_cols.remove('trip_km')"
   ]
  },
  {
   "cell_type": "code",
   "execution_count": 14,
   "metadata": {},
   "outputs": [],
   "source": [
    "# Train, Test set split\n",
    "X_train, X_test = train_set[X_cols], test_set[X_cols]\n",
    "y_train, y_test = train_set['trip_km'], test_set['trip_km']\n",
    "X_val, y_val = val_set[X_cols], val_set['trip_km']"
   ]
  },
  {
   "cell_type": "markdown",
   "metadata": {},
   "source": [
    "# 모델생성"
   ]
  },
  {
   "cell_type": "markdown",
   "metadata": {},
   "source": [
    "## 기본 옵션으로 모델 생성"
   ]
  },
  {
   "cell_type": "code",
   "execution_count": 15,
   "metadata": {},
   "outputs": [
    {
     "name": "stdout",
     "output_type": "stream",
     "text": [
      "Score on training set : 0.985\n",
      "Score on test set : 0.896\n"
     ]
    }
   ],
   "source": [
    "rf_uncustomized = RandomForestRegressor()\n",
    "rf_uncustomized.fit(X_train, y_train)\n",
    "# Train 데이터 설명력\n",
    "print(\"Score on training set : {:.3f}\".format(rf_uncustomized.score(X_train,y_train)))\n",
    "print(\"Score on test set : {:.3f}\".format(rf_uncustomized.score(X_test,y_test)))"
   ]
  },
  {
   "cell_type": "code",
   "execution_count": 21,
   "metadata": {},
   "outputs": [
    {
     "data": {
      "text/html": [
       "<div>\n",
       "<style scoped>\n",
       "    .dataframe tbody tr th:only-of-type {\n",
       "        vertical-align: middle;\n",
       "    }\n",
       "\n",
       "    .dataframe tbody tr th {\n",
       "        vertical-align: top;\n",
       "    }\n",
       "\n",
       "    .dataframe thead th {\n",
       "        text-align: right;\n",
       "    }\n",
       "</style>\n",
       "<table border=\"1\" class=\"dataframe\">\n",
       "  <thead>\n",
       "    <tr style=\"text-align: right;\">\n",
       "      <th></th>\n",
       "      <th>taxi_id</th>\n",
       "      <th>trip_seconds</th>\n",
       "      <th>fare</th>\n",
       "      <th>tips</th>\n",
       "      <th>tolls</th>\n",
       "      <th>extras</th>\n",
       "      <th>trip_total</th>\n",
       "      <th>pickup_latitude</th>\n",
       "      <th>pickup_longitude</th>\n",
       "      <th>dropoff_latitude</th>\n",
       "      <th>dropoff_longitude</th>\n",
       "      <th>trip_minuate</th>\n",
       "    </tr>\n",
       "  </thead>\n",
       "  <tbody>\n",
       "    <tr>\n",
       "      <th>4</th>\n",
       "      <td>7418.0</td>\n",
       "      <td>180.0</td>\n",
       "      <td>5.00</td>\n",
       "      <td>2.0</td>\n",
       "      <td>0.0</td>\n",
       "      <td>1.5</td>\n",
       "      <td>8.50</td>\n",
       "      <td>210.0</td>\n",
       "      <td>470.0</td>\n",
       "      <td>744.0</td>\n",
       "      <td>605.0</td>\n",
       "      <td>3.0</td>\n",
       "    </tr>\n",
       "    <tr>\n",
       "      <th>6</th>\n",
       "      <td>6641.0</td>\n",
       "      <td>420.0</td>\n",
       "      <td>7.25</td>\n",
       "      <td>0.0</td>\n",
       "      <td>0.0</td>\n",
       "      <td>0.0</td>\n",
       "      <td>7.25</td>\n",
       "      <td>419.0</td>\n",
       "      <td>615.0</td>\n",
       "      <td>411.0</td>\n",
       "      <td>545.0</td>\n",
       "      <td>7.0</td>\n",
       "    </tr>\n",
       "    <tr>\n",
       "      <th>8</th>\n",
       "      <td>7984.0</td>\n",
       "      <td>420.0</td>\n",
       "      <td>6.25</td>\n",
       "      <td>0.0</td>\n",
       "      <td>0.0</td>\n",
       "      <td>0.0</td>\n",
       "      <td>6.25</td>\n",
       "      <td>419.0</td>\n",
       "      <td>615.0</td>\n",
       "      <td>681.0</td>\n",
       "      <td>196.0</td>\n",
       "      <td>7.0</td>\n",
       "    </tr>\n",
       "    <tr>\n",
       "      <th>10</th>\n",
       "      <td>221.0</td>\n",
       "      <td>720.0</td>\n",
       "      <td>10.75</td>\n",
       "      <td>0.0</td>\n",
       "      <td>0.0</td>\n",
       "      <td>0.0</td>\n",
       "      <td>10.75</td>\n",
       "      <td>642.0</td>\n",
       "      <td>32.0</td>\n",
       "      <td>411.0</td>\n",
       "      <td>545.0</td>\n",
       "      <td>12.0</td>\n",
       "    </tr>\n",
       "    <tr>\n",
       "      <th>12</th>\n",
       "      <td>5367.0</td>\n",
       "      <td>420.0</td>\n",
       "      <td>6.75</td>\n",
       "      <td>0.0</td>\n",
       "      <td>0.0</td>\n",
       "      <td>0.0</td>\n",
       "      <td>6.75</td>\n",
       "      <td>158.0</td>\n",
       "      <td>270.0</td>\n",
       "      <td>158.0</td>\n",
       "      <td>270.0</td>\n",
       "      <td>7.0</td>\n",
       "    </tr>\n",
       "    <tr>\n",
       "      <th>...</th>\n",
       "      <td>...</td>\n",
       "      <td>...</td>\n",
       "      <td>...</td>\n",
       "      <td>...</td>\n",
       "      <td>...</td>\n",
       "      <td>...</td>\n",
       "      <td>...</td>\n",
       "      <td>...</td>\n",
       "      <td>...</td>\n",
       "      <td>...</td>\n",
       "      <td>...</td>\n",
       "      <td>...</td>\n",
       "    </tr>\n",
       "    <tr>\n",
       "      <th>1384008</th>\n",
       "      <td>5122.0</td>\n",
       "      <td>420.0</td>\n",
       "      <td>7.25</td>\n",
       "      <td>1.0</td>\n",
       "      <td>0.0</td>\n",
       "      <td>0.0</td>\n",
       "      <td>8.25</td>\n",
       "      <td>744.0</td>\n",
       "      <td>605.0</td>\n",
       "      <td>18.0</td>\n",
       "      <td>610.0</td>\n",
       "      <td>7.0</td>\n",
       "    </tr>\n",
       "    <tr>\n",
       "      <th>1384012</th>\n",
       "      <td>1592.0</td>\n",
       "      <td>480.0</td>\n",
       "      <td>10.00</td>\n",
       "      <td>0.0</td>\n",
       "      <td>0.0</td>\n",
       "      <td>0.0</td>\n",
       "      <td>10.00</td>\n",
       "      <td>599.0</td>\n",
       "      <td>346.0</td>\n",
       "      <td>199.0</td>\n",
       "      <td>510.0</td>\n",
       "      <td>8.0</td>\n",
       "    </tr>\n",
       "    <tr>\n",
       "      <th>1384017</th>\n",
       "      <td>7976.0</td>\n",
       "      <td>0.0</td>\n",
       "      <td>3.25</td>\n",
       "      <td>0.0</td>\n",
       "      <td>0.0</td>\n",
       "      <td>0.0</td>\n",
       "      <td>3.25</td>\n",
       "      <td>686.0</td>\n",
       "      <td>500.0</td>\n",
       "      <td>686.0</td>\n",
       "      <td>500.0</td>\n",
       "      <td>0.0</td>\n",
       "    </tr>\n",
       "    <tr>\n",
       "      <th>1384029</th>\n",
       "      <td>5910.0</td>\n",
       "      <td>300.0</td>\n",
       "      <td>5.75</td>\n",
       "      <td>1.5</td>\n",
       "      <td>0.0</td>\n",
       "      <td>0.0</td>\n",
       "      <td>7.25</td>\n",
       "      <td>18.0</td>\n",
       "      <td>610.0</td>\n",
       "      <td>30.0</td>\n",
       "      <td>405.0</td>\n",
       "      <td>5.0</td>\n",
       "    </tr>\n",
       "    <tr>\n",
       "      <th>1384030</th>\n",
       "      <td>4579.0</td>\n",
       "      <td>360.0</td>\n",
       "      <td>6.50</td>\n",
       "      <td>0.0</td>\n",
       "      <td>0.0</td>\n",
       "      <td>1.0</td>\n",
       "      <td>7.50</td>\n",
       "      <td>454.0</td>\n",
       "      <td>453.0</td>\n",
       "      <td>724.0</td>\n",
       "      <td>47.0</td>\n",
       "      <td>6.0</td>\n",
       "    </tr>\n",
       "  </tbody>\n",
       "</table>\n",
       "<p>288832 rows × 12 columns</p>\n",
       "</div>"
      ],
      "text/plain": [
       "         taxi_id  trip_seconds   fare  tips  tolls  extras  trip_total  \\\n",
       "4         7418.0         180.0   5.00   2.0    0.0     1.5        8.50   \n",
       "6         6641.0         420.0   7.25   0.0    0.0     0.0        7.25   \n",
       "8         7984.0         420.0   6.25   0.0    0.0     0.0        6.25   \n",
       "10         221.0         720.0  10.75   0.0    0.0     0.0       10.75   \n",
       "12        5367.0         420.0   6.75   0.0    0.0     0.0        6.75   \n",
       "...          ...           ...    ...   ...    ...     ...         ...   \n",
       "1384008   5122.0         420.0   7.25   1.0    0.0     0.0        8.25   \n",
       "1384012   1592.0         480.0  10.00   0.0    0.0     0.0       10.00   \n",
       "1384017   7976.0           0.0   3.25   0.0    0.0     0.0        3.25   \n",
       "1384029   5910.0         300.0   5.75   1.5    0.0     0.0        7.25   \n",
       "1384030   4579.0         360.0   6.50   0.0    0.0     1.0        7.50   \n",
       "\n",
       "         pickup_latitude  pickup_longitude  dropoff_latitude  \\\n",
       "4                  210.0             470.0             744.0   \n",
       "6                  419.0             615.0             411.0   \n",
       "8                  419.0             615.0             681.0   \n",
       "10                 642.0              32.0             411.0   \n",
       "12                 158.0             270.0             158.0   \n",
       "...                  ...               ...               ...   \n",
       "1384008            744.0             605.0              18.0   \n",
       "1384012            599.0             346.0             199.0   \n",
       "1384017            686.0             500.0             686.0   \n",
       "1384029             18.0             610.0              30.0   \n",
       "1384030            454.0             453.0             724.0   \n",
       "\n",
       "         dropoff_longitude  trip_minuate  \n",
       "4                    605.0           3.0  \n",
       "6                    545.0           7.0  \n",
       "8                    196.0           7.0  \n",
       "10                   545.0          12.0  \n",
       "12                   270.0           7.0  \n",
       "...                    ...           ...  \n",
       "1384008              610.0           7.0  \n",
       "1384012              510.0           8.0  \n",
       "1384017              500.0           0.0  \n",
       "1384029              405.0           5.0  \n",
       "1384030               47.0           6.0  \n",
       "\n",
       "[288832 rows x 12 columns]"
      ]
     },
     "execution_count": 21,
     "metadata": {},
     "output_type": "execute_result"
    }
   ],
   "source": [
    "# 예측값 생성을 위한 validation set\n",
    "X_val"
   ]
  },
  {
   "cell_type": "code",
   "execution_count": 22,
   "metadata": {},
   "outputs": [
    {
     "data": {
      "text/plain": [
       "array([1.014677, 2.191105, 1.622524, ..., 1.185597, 1.359883, 2.335157])"
      ]
     },
     "execution_count": 22,
     "metadata": {},
     "output_type": "execute_result"
    }
   ],
   "source": [
    "# 모델을 통한 예측값 생성\n",
    "rf_uncustomized.predict(X_val)"
   ]
  },
  {
   "cell_type": "code",
   "execution_count": 23,
   "metadata": {},
   "outputs": [],
   "source": [
    "# 예측 값을 원본 데이터 프레임에 삽입\n",
    "df.iloc[idx_array1,-1] = rf_uncustomized.predict(X_val)"
   ]
  },
  {
   "cell_type": "code",
   "execution_count": 24,
   "metadata": {},
   "outputs": [
    {
     "data": {
      "text/plain": [
       "4          1.014677\n",
       "6          2.191105\n",
       "8          1.622524\n",
       "10         4.233866\n",
       "12         2.138811\n",
       "             ...   \n",
       "1384008    2.164543\n",
       "1384012    3.635516\n",
       "1384017    1.185597\n",
       "1384029    1.359883\n",
       "1384030    2.335157\n",
       "Name: trip_km, Length: 288832, dtype: float64"
      ]
     },
     "execution_count": 24,
     "metadata": {},
     "output_type": "execute_result"
    }
   ],
   "source": [
    "# 주행거리가 0이었던 값들이 모델의 예측값으로 변경됨\n",
    "df.iloc[idx_array1,-1]"
   ]
  },
  {
   "cell_type": "code",
   "execution_count": 26,
   "metadata": {},
   "outputs": [
    {
     "data": {
      "text/plain": [
       "0"
      ]
     },
     "execution_count": 26,
     "metadata": {},
     "output_type": "execute_result"
    }
   ],
   "source": [
    "# 변경한 데이터 프레임에서 주행요금은 있지만 주행 거리가 없는 데이터 확인\n",
    "df[(df['trip_km']==0.0) & (df['trip_total']!=0.0)].__len__()"
   ]
  },
  {
   "cell_type": "code",
   "execution_count": null,
   "metadata": {},
   "outputs": [],
   "source": [
    "# 새로 변경한 데이터 프레임 저장\n",
    "df.to_csv('new_jan_1.csv',index=False)"
   ]
  }
 ],
 "metadata": {
  "kernelspec": {
   "display_name": "Python 3",
   "language": "python",
   "name": "python3"
  },
  "language_info": {
   "codemirror_mode": {
    "name": "ipython",
    "version": 3
   },
   "file_extension": ".py",
   "mimetype": "text/x-python",
   "name": "python",
   "nbconvert_exporter": "python",
   "pygments_lexer": "ipython3",
   "version": "3.7.6"
  }
 },
 "nbformat": 4,
 "nbformat_minor": 4
}
